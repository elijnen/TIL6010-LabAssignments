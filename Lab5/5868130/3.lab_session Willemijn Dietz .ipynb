{
 "cells": [
  {
   "cell_type": "markdown",
   "metadata": {},
   "source": [
    "Import relevant packages here."
   ]
  },
  {
   "cell_type": "code",
   "execution_count": 1,
   "metadata": {},
   "outputs": [
    {
     "name": "stderr",
     "output_type": "stream",
     "text": [
      "/Users/willemijndietz/opt/anaconda3/lib/python3.8/site-packages/pandas/core/computation/expressions.py:21: UserWarning: Pandas requires version '2.7.3' or newer of 'numexpr' (version '2.7.1' currently installed).\n",
      "  from pandas.core.computation.check import NUMEXPR_INSTALLED\n"
     ]
    }
   ],
   "source": [
    "#Import the needed libraries \n",
    "import matplotlib.pyplot as plt\n",
    "import numpy as np\n",
    "import pandas as pd\n",
    "import math"
   ]
  },
  {
   "cell_type": "markdown",
   "metadata": {},
   "source": [
    "Load the data and verify it is loaded correctly.\n",
    "<ul>\n",
    "    <li>Print it (head, tail, or specific rows, choose a sensible number of rows).</li>\n",
    "    <li>Compare it to the source file.</li>\n",
    "<ul>"
   ]
  },
  {
   "cell_type": "code",
   "execution_count": 2,
   "metadata": {},
   "outputs": [],
   "source": [
    "#Open the file\n",
    "#Make new dataframe consisting of the first 50 rows, meant for testing \n",
    "file_path = '/Users/willemijndietz/Documents/2022-2023/TIL6022/Week 4 /cf_data.csv'\n",
    "data = pd.read_csv(file_path, sep=',')\n",
    "data\n",
    "data50 = data.head(50)"
   ]
  },
  {
   "cell_type": "code",
   "execution_count": 3,
   "metadata": {},
   "outputs": [
    {
     "data": {
      "text/html": [
       "<div>\n",
       "<style scoped>\n",
       "    .dataframe tbody tr th:only-of-type {\n",
       "        vertical-align: middle;\n",
       "    }\n",
       "\n",
       "    .dataframe tbody tr th {\n",
       "        vertical-align: top;\n",
       "    }\n",
       "\n",
       "    .dataframe thead th {\n",
       "        text-align: right;\n",
       "    }\n",
       "</style>\n",
       "<table border=\"1\" class=\"dataframe\">\n",
       "  <thead>\n",
       "    <tr style=\"text-align: right;\">\n",
       "      <th></th>\n",
       "      <th>dv</th>\n",
       "      <th>s</th>\n",
       "      <th>a</th>\n",
       "    </tr>\n",
       "  </thead>\n",
       "  <tbody>\n",
       "    <tr>\n",
       "      <th>0</th>\n",
       "      <td>-0.743240</td>\n",
       "      <td>53.5427</td>\n",
       "      <td>1.242570</td>\n",
       "    </tr>\n",
       "    <tr>\n",
       "      <th>1</th>\n",
       "      <td>-0.557230</td>\n",
       "      <td>53.6120</td>\n",
       "      <td>1.777920</td>\n",
       "    </tr>\n",
       "    <tr>\n",
       "      <th>2</th>\n",
       "      <td>-0.454769</td>\n",
       "      <td>53.6541</td>\n",
       "      <td>0.544107</td>\n",
       "    </tr>\n",
       "    <tr>\n",
       "      <th>3</th>\n",
       "      <td>-0.525396</td>\n",
       "      <td>53.7030</td>\n",
       "      <td>-0.294755</td>\n",
       "    </tr>\n",
       "    <tr>\n",
       "      <th>4</th>\n",
       "      <td>-0.601285</td>\n",
       "      <td>53.7592</td>\n",
       "      <td>-0.290961</td>\n",
       "    </tr>\n",
       "    <tr>\n",
       "      <th>5</th>\n",
       "      <td>-0.682448</td>\n",
       "      <td>53.8232</td>\n",
       "      <td>-0.283414</td>\n",
       "    </tr>\n",
       "    <tr>\n",
       "      <th>6</th>\n",
       "      <td>-0.768859</td>\n",
       "      <td>53.8957</td>\n",
       "      <td>-0.271604</td>\n",
       "    </tr>\n",
       "    <tr>\n",
       "      <th>7</th>\n",
       "      <td>-0.860452</td>\n",
       "      <td>53.9770</td>\n",
       "      <td>-0.133532</td>\n",
       "    </tr>\n",
       "    <tr>\n",
       "      <th>8</th>\n",
       "      <td>-0.832777</td>\n",
       "      <td>54.0678</td>\n",
       "      <td>0.243356</td>\n",
       "    </tr>\n",
       "    <tr>\n",
       "      <th>9</th>\n",
       "      <td>-0.576125</td>\n",
       "      <td>54.1436</td>\n",
       "      <td>0.406759</td>\n",
       "    </tr>\n",
       "  </tbody>\n",
       "</table>\n",
       "</div>"
      ],
      "text/plain": [
       "         dv        s         a\n",
       "0 -0.743240  53.5427  1.242570\n",
       "1 -0.557230  53.6120  1.777920\n",
       "2 -0.454769  53.6541  0.544107\n",
       "3 -0.525396  53.7030 -0.294755\n",
       "4 -0.601285  53.7592 -0.290961\n",
       "5 -0.682448  53.8232 -0.283414\n",
       "6 -0.768859  53.8957 -0.271604\n",
       "7 -0.860452  53.9770 -0.133532\n",
       "8 -0.832777  54.0678  0.243356\n",
       "9 -0.576125  54.1436  0.406759"
      ]
     },
     "execution_count": 3,
     "metadata": {},
     "output_type": "execute_result"
    }
   ],
   "source": [
    "#Explore the data set\n",
    "data.head(10)"
   ]
  },
  {
   "cell_type": "code",
   "execution_count": 4,
   "metadata": {},
   "outputs": [
    {
     "name": "stdout",
     "output_type": "stream",
     "text": [
      "<class 'pandas.core.frame.DataFrame'>\n",
      "RangeIndex: 73908 entries, 0 to 73907\n",
      "Data columns (total 3 columns):\n",
      " #   Column  Non-Null Count  Dtype  \n",
      "---  ------  --------------  -----  \n",
      " 0   dv      73908 non-null  float64\n",
      " 1   s       73908 non-null  float64\n",
      " 2   a       73908 non-null  float64\n",
      "dtypes: float64(3)\n",
      "memory usage: 1.7 MB\n",
      "<class 'pandas.core.frame.DataFrame'>\n",
      "RangeIndex: 50 entries, 0 to 49\n",
      "Data columns (total 3 columns):\n",
      " #   Column  Non-Null Count  Dtype  \n",
      "---  ------  --------------  -----  \n",
      " 0   dv      50 non-null     float64\n",
      " 1   s       50 non-null     float64\n",
      " 2   a       50 non-null     float64\n",
      "dtypes: float64(3)\n",
      "memory usage: 1.3 KB\n"
     ]
    }
   ],
   "source": [
    "#Explore both datasets \n",
    "data.info()\n",
    "data50.info()"
   ]
  },
  {
   "cell_type": "markdown",
   "metadata": {},
   "source": [
    "In the ensuing, you will use <code>numpy</code>.\n",
    "\n",
    "Lets create a grid for the values to plot. But first create <b>two arrays named <code>dv</code> and <code>s</code></b> using <code>numpy.linspace</code> that hold the grid values at the relevant indices in their respective dimension of the grid.\n",
    "\n",
    "Create a <b>grid named <code>a</code></b> with zeros using <code>numpy.zeros</code> in to which calculated acceleration values can be stored.<br>\n",
    "<br>\n",
    "Let the grid span:<br>\n",
    "<ul>\n",
    "    <li>Speed difference <code>dv</code> [m/s]\n",
    "        <ul>\n",
    "            <li>From -10 till 10</li>\n",
    "            <li>With 41 evenly spaced values</li>\n",
    "        </ul>\n",
    "    </li>\n",
    "    <li>Headway <code>s</code> [m]\n",
    "        <ul>\n",
    "            <li>From 0 till 200</li>\n",
    "            <li>With 21 evenly spaced values</li>\n",
    "        </ul>\n",
    "    </li>\n",
    "</ul>"
   ]
  },
  {
   "cell_type": "code",
   "execution_count": 5,
   "metadata": {},
   "outputs": [],
   "source": [
    "#Num creates evenly spaces values\n",
    "#Creating the grid \n",
    "dv = np.linspace(-10, 10, num=41)\n",
    "s = np.linspace(0, 200, num=21)\n",
    "\n",
    "#Create array with zeros, accelaration can be stored here\n",
    "a = np.zeros((s.shape[0], dv.shape[0]))"
   ]
  },
  {
   "cell_type": "markdown",
   "metadata": {},
   "source": [
    "Create from the imported data 3 separate <code>numpy</code> arrays for each column <code>dv</code>, <code>s</code> and <code>a</code>. (We do this for speed reasons later.)\n",
    "<ul>\n",
    "    <li>Make sure to name them differently from the arrays that belong to the grid as above.</li>\n",
    "    <li>You can access the data of each column in a <code>DataFrame</code> using <code>data.xxx</code> where <code>xxx</code> is the column name (not as a string).</li>\n",
    "    <li>Use the method <code>to_numpy()</code> to convert a column to a <code>numpy</code> array.</li>\n",
    "</ul>"
   ]
  },
  {
   "cell_type": "code",
   "execution_count": 6,
   "metadata": {},
   "outputs": [],
   "source": [
    "#Get column and convert to numpy array\n",
    "DV = data.dv.to_numpy()\n",
    "S = data.s.to_numpy()\n",
    "A = data.a.to_numpy()"
   ]
  },
  {
   "cell_type": "markdown",
   "metadata": {},
   "source": [
    "Create an algorithm that calculates all the acceleration values and stores them in the grid. The algorithm is described visually in the last part of the lecture. At each grid point, it calculates a weighted mean of all measurements. The weights are given by an exponential function, based on the 'distance' between the grid point, and the measurement values of <code>dv</code> and <code>s</code>. To get you started, how many <code>for</code>-loops do you need?<br>\n",
    "<br>\n",
    "For this you will need <code>math</code>.<br>\n",
    "Use an <i>upsilon</i> of 1.5m/s and a <i>sigma</i> of 30m.<br>\n",
    "<br>\n",
    "<b>Warning:</b> This calculation may take some time. So:\n",
    "<ul>\n",
    "    <li>Print a line for each iteration of the outer-most <code>for</code>-loop that shows you the progress.</li>\n",
    "    <li>Test you code by running it only on the first 50 measurements of the data.</li>\n",
    "</ul>"
   ]
  },
  {
   "cell_type": "code",
   "execution_count": 7,
   "metadata": {},
   "outputs": [],
   "source": [
    "#For the testing we get the first 50 lines of the data \n",
    "DV50 = data50.dv.to_numpy()\n",
    "S50 = data50.s.to_numpy()\n",
    "A50 = data50.a.to_numpy()\n",
    "\n",
    "#Small a to store 50 values in \n",
    "a50 = np.zeros((s.shape[0], dv.shape[0]))"
   ]
  },
  {
   "cell_type": "code",
   "execution_count": 8,
   "metadata": {},
   "outputs": [
    {
     "name": "stdout",
     "output_type": "stream",
     "text": [
      "0.6751282152501584\n"
     ]
    }
   ],
   "source": [
    "#CODE FOR A SINGLE VALUE e.g. (1.0, 80.0)\n",
    "#Initialize the two sums to be zero\n",
    "sum_w = 0 \n",
    "sum_wa = 0\n",
    "\n",
    "#The first loop calculates the weighted average for one value\n",
    "for i in range(len(data50)):\n",
    "    weight = math.exp(-(abs(DV50[i] - 1.0)/1.5) - (abs(S50[i] - 80.0)/30))\n",
    "    sum_w = sum_w + weight    #Increase sum each iteration\n",
    "    sum_wa = sum_wa + (weight * A50[i])    #Increase sum each iteration \n",
    "\n",
    "\n",
    "#At the end of the loop, for this specific value, the weighted avg sum is returned   \n",
    "weighted_avg_sum = sum_wa/sum_w\n",
    "print(weighted_avg_sum)"
   ]
  },
  {
   "cell_type": "code",
   "execution_count": 9,
   "metadata": {},
   "outputs": [
    {
     "name": "stdout",
     "output_type": "stream",
     "text": [
      "step  1  out of  41\n",
      "step  2  out of  41\n",
      "step  3  out of  41\n",
      "step  4  out of  41\n",
      "step  5  out of  41\n",
      "step  6  out of  41\n",
      "step  7  out of  41\n",
      "step  8  out of  41\n",
      "step  9  out of  41\n",
      "step  10  out of  41\n",
      "step  11  out of  41\n",
      "step  12  out of  41\n",
      "step  13  out of  41\n",
      "step  14  out of  41\n",
      "step  15  out of  41\n",
      "step  16  out of  41\n",
      "step  17  out of  41\n",
      "step  18  out of  41\n",
      "step  19  out of  41\n",
      "step  20  out of  41\n",
      "step  21  out of  41\n",
      "step  22  out of  41\n",
      "step  23  out of  41\n",
      "step  24  out of  41\n",
      "step  25  out of  41\n",
      "step  26  out of  41\n",
      "step  27  out of  41\n",
      "step  28  out of  41\n",
      "step  29  out of  41\n",
      "step  30  out of  41\n",
      "step  31  out of  41\n",
      "step  32  out of  41\n",
      "step  33  out of  41\n",
      "step  34  out of  41\n",
      "step  35  out of  41\n",
      "step  36  out of  41\n",
      "step  37  out of  41\n",
      "step  38  out of  41\n",
      "step  39  out of  41\n",
      "step  40  out of  41\n",
      "step  41  out of  41\n"
     ]
    }
   ],
   "source": [
    "#CODE FOR 50 DATA POINTS, TESTING \n",
    "#3 LOOPS \n",
    "for i in range(dv.shape[0]):\n",
    "    print('step ', i+1, ' out of ', dv.shape[0])    #Print steps to see progress\n",
    "    for j in range(s.shape[0]):\n",
    "        #Initialize sum to be zero \n",
    "        sum_w = 0\n",
    "        sum_wa = 0\n",
    "        for k in range(len(data50)):\n",
    "            weight = math.exp(-(abs(DV50[k] - dv[i])/1.5) - (abs(S50[k] - s[j])/30))\n",
    "            sum_w = sum_w + weight    #Increase sum each iteration\n",
    "            sum_wa = sum_wa + (weight * A50[k])    #Increase sum each iteration \n",
    "        weighted_avg_sum = sum_wa/sum_w\n",
    "        #Assign weighted value\n",
    "        a50[j][i] = weighted_avg_sum"
   ]
  },
  {
   "cell_type": "code",
   "execution_count": 10,
   "metadata": {},
   "outputs": [
    {
     "name": "stdout",
     "output_type": "stream",
     "text": [
      "step  1  out of  41\n",
      "step  2  out of  41\n",
      "step  3  out of  41\n",
      "step  4  out of  41\n",
      "step  5  out of  41\n",
      "step  6  out of  41\n",
      "step  7  out of  41\n",
      "step  8  out of  41\n",
      "step  9  out of  41\n",
      "step  10  out of  41\n",
      "step  11  out of  41\n",
      "step  12  out of  41\n",
      "step  13  out of  41\n",
      "step  14  out of  41\n",
      "step  15  out of  41\n",
      "step  16  out of  41\n",
      "step  17  out of  41\n",
      "step  18  out of  41\n",
      "step  19  out of  41\n",
      "step  20  out of  41\n",
      "step  21  out of  41\n",
      "step  22  out of  41\n",
      "step  23  out of  41\n",
      "step  24  out of  41\n",
      "step  25  out of  41\n",
      "step  26  out of  41\n",
      "step  27  out of  41\n",
      "step  28  out of  41\n",
      "step  29  out of  41\n",
      "step  30  out of  41\n",
      "step  31  out of  41\n",
      "step  32  out of  41\n",
      "step  33  out of  41\n",
      "step  34  out of  41\n",
      "step  35  out of  41\n",
      "step  36  out of  41\n",
      "step  37  out of  41\n",
      "step  38  out of  41\n",
      "step  39  out of  41\n",
      "step  40  out of  41\n",
      "step  41  out of  41\n"
     ]
    }
   ],
   "source": [
    "#CODE FOR ALL DATA POINTS\n",
    "#3 LOOPS \n",
    "\n",
    "for i in range(dv.shape[0]):\n",
    "    print('step ', i+1, ' out of ', dv.shape[0])    #Print steps to see progress\n",
    "    for j in range(s.shape[0]):\n",
    "        sum_w = 0\n",
    "        sum_wa = 0\n",
    "        for k in range(len(data)):\n",
    "            weight = math.exp(-(abs(DV[k] - dv[i])/1.5) - (abs(S[k] - s[j])/30))\n",
    "            sum_w = sum_w + weight    #Increase sum each iteration\n",
    "            sum_wa = sum_wa + (weight * A[k]) \n",
    "        weighted_avg_sum = sum_wa/sum_w\n",
    "        a[j][i] = weighted_avg_sum"
   ]
  },
  {
   "cell_type": "markdown",
   "metadata": {},
   "source": [
    "The following code will plot the data for you. Does it make sense when considering:\n",
    "<ul>\n",
    "    <li>Negative (slower than leader) and positive (faster than leader) speed differences?</li>\n",
    "    <li>Small and large headways?</li>\n",
    "</ul>"
   ]
  },
  {
   "cell_type": "code",
   "execution_count": 11,
   "metadata": {},
   "outputs": [
    {
     "data": {
      "image/png": "[encoded data removed]",
      "text/plain": [
       "<Figure size 720x504 with 2 Axes>"
      ]
     },
     "metadata": {
      "needs_background": "light"
     },
     "output_type": "display_data"
    }
   ],
   "source": [
    "#Plot the data \n",
    "\n",
    "X, Y = np.meshgrid(dv, s)\n",
    "axs = plt.axes()\n",
    "p = axs.pcolor(X, Y, a) # shading='nearest') #Shading function gives an error.. \n",
    "axs.set_title('Acceleration [m/s/s]')\n",
    "axs.set_xlabel('Speed difference [m/s]')\n",
    "axs.set_ylabel('Headway [m]')\n",
    "axs.figure.colorbar(p);\n",
    "axs.figure.set_size_inches(10, 7)\n",
    "\n",
    "#s in meters depicts distance to leader\n",
    "#dv in m/s depicts speed difference to leader \n",
    "\n",
    "#We see when the distance to leader is between 25 - 75 meter and the speed difference is large and negative (-5 to -10)\n",
    "#Then the positive acceleration is largest \n",
    "#Acceleration needed for overtaking, so this makes sense\n",
    "#Also when the distance to the leader is small (0 - 75 meter) and the speed difference is large and positive (2.5 - 10)\n",
    "#Then the negative acceleration is largest\n",
    "#Makes sense because one then has to brake "
   ]
  },
  {
   "cell_type": "code",
   "execution_count": null,
   "metadata": {},
   "outputs": [],
   "source": []
  }
 ],
 "metadata": {
  "kernelspec": {
   "display_name": "Python 3",
   "language": "python",
   "name": "python3"
  },
  "language_info": {
   "codemirror_mode": {
    "name": "ipython",
    "version": 3
   },
   "file_extension": ".py",
   "mimetype": "text/x-python",
   "name": "python",
   "nbconvert_exporter": "python",
   "pygments_lexer": "ipython3",
   "version": "3.8.3"
  }
 },
 "nbformat": 4,
 "nbformat_minor": 5
}
