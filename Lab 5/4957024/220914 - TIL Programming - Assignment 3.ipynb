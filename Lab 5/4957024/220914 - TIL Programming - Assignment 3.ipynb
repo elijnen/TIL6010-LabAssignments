{
 "cells": [
  {
   "cell_type": "markdown",
   "metadata": {},
   "source": [
    "# 1. Read and write simple text files"
   ]
  },
  {
   "cell_type": "markdown",
   "metadata": {},
   "source": [
    "A text file `addition.txt` contains a number in each line. Write a python code that"
   ]
  },
  {
   "cell_type": "code",
   "execution_count": null,
   "metadata": {},
   "outputs": [],
   "source": []
  },
  {
   "cell_type": "markdown",
   "metadata": {},
   "source": [
    "## 1.1. Reads all numbers"
   ]
  },
  {
   "cell_type": "code",
   "execution_count": 4,
   "metadata": {},
   "outputs": [
    {
     "name": "stdout",
     "output_type": "stream",
     "text": [
      "2\n",
      "3\n",
      "5\n",
      "\n",
      "10\n"
     ]
    }
   ],
   "source": [
    "file_path =  'data/addition.txt'\n",
    "with open(file_path,'r') as fp:\n",
    "    line = fp.readline()\n",
    "    while line:\n",
    "        print(str(line).strip())\n",
    "        line = fp.readline()"
   ]
  },
  {
   "cell_type": "markdown",
   "metadata": {},
   "source": [
    "## 1.2. Calculats their sum"
   ]
  },
  {
   "cell_type": "code",
   "execution_count": 5,
   "metadata": {},
   "outputs": [
    {
     "name": "stdout",
     "output_type": "stream",
     "text": [
      "20\n"
     ]
    }
   ],
   "source": [
    "total = 0 \n",
    "\n",
    "with open(file_path,'r') as fp:\n",
    "    line = fp.readline()\n",
    "    while line:\n",
    "        if line != \"\\n\": \n",
    "            number = int(str(line).strip())\n",
    "            total += number\n",
    "            line = fp.readline()\n",
    "        else: \n",
    "            line = fp.readline()\n",
    "print(total)\n",
    "        "
   ]
  },
  {
   "cell_type": "markdown",
   "metadata": {},
   "source": [
    "## 1.3 Writes the sum at the bottom of the text file"
   ]
  },
  {
   "cell_type": "code",
   "execution_count": 9,
   "metadata": {},
   "outputs": [],
   "source": [
    "with open(file_path,'a') as fp:\n",
    "    fp.write('Total sum is: ' + str(total))"
   ]
  },
  {
   "cell_type": "markdown",
   "metadata": {},
   "source": [
    "# 2. Pandas"
   ]
  },
  {
   "cell_type": "markdown",
   "metadata": {},
   "source": [
    "In this part, you will practice loading and exploring a data set from Netflix."
   ]
  },
  {
   "cell_type": "markdown",
   "metadata": {},
   "source": [
    "## 2.1. Dataset"
   ]
  },
  {
   "cell_type": "markdown",
   "metadata": {},
   "source": [
    "Read the [Netflix dataset](https://www.kaggle.com/datasets/luiscorter/netflix-original-films-imdb-scores)"
   ]
  },
  {
   "cell_type": "code",
   "execution_count": 13,
   "metadata": {},
   "outputs": [
    {
     "ename": "UnicodeDecodeError",
     "evalue": "'utf-8' codec can't decode byte 0xd2 in position 7431: invalid continuation byte",
     "output_type": "error",
     "traceback": [
      "\u001b[1;31m---------------------------------------------------------------------------\u001b[0m",
      "\u001b[1;31mUnicodeDecodeError\u001b[0m                        Traceback (most recent call last)",
      "\u001b[1;32m~\\AppData\\Local\\Temp\\ipykernel_8380\\29245549.py\u001b[0m in \u001b[0;36m<module>\u001b[1;34m\u001b[0m\n\u001b[0;32m      2\u001b[0m \u001b[1;33m\u001b[0m\u001b[0m\n\u001b[0;32m      3\u001b[0m \u001b[0mfile_path\u001b[0m \u001b[1;33m=\u001b[0m \u001b[1;34m'data/NetflixOriginals.csv'\u001b[0m\u001b[1;33m\u001b[0m\u001b[1;33m\u001b[0m\u001b[0m\n\u001b[1;32m----> 4\u001b[1;33m \u001b[0mdf\u001b[0m \u001b[1;33m=\u001b[0m \u001b[0mpd\u001b[0m\u001b[1;33m.\u001b[0m\u001b[0mread_csv\u001b[0m\u001b[1;33m(\u001b[0m\u001b[0mfile_path\u001b[0m\u001b[1;33m,\u001b[0m \u001b[0mdelimiter\u001b[0m\u001b[1;33m=\u001b[0m\u001b[1;34m'\\t'\u001b[0m\u001b[1;33m)\u001b[0m\u001b[1;33m\u001b[0m\u001b[1;33m\u001b[0m\u001b[0m\n\u001b[0m\u001b[0;32m      5\u001b[0m \u001b[0mdf\u001b[0m\u001b[1;33m\u001b[0m\u001b[1;33m\u001b[0m\u001b[0m\n",
      "\u001b[1;32mc:\\Users\\zijlm\\anaconda3\\envs\\TIL6022\\lib\\site-packages\\pandas\\util\\_decorators.py\u001b[0m in \u001b[0;36mwrapper\u001b[1;34m(*args, **kwargs)\u001b[0m\n\u001b[0;32m    309\u001b[0m                     \u001b[0mstacklevel\u001b[0m\u001b[1;33m=\u001b[0m\u001b[0mstacklevel\u001b[0m\u001b[1;33m,\u001b[0m\u001b[1;33m\u001b[0m\u001b[1;33m\u001b[0m\u001b[0m\n\u001b[0;32m    310\u001b[0m                 )\n\u001b[1;32m--> 311\u001b[1;33m             \u001b[1;32mreturn\u001b[0m \u001b[0mfunc\u001b[0m\u001b[1;33m(\u001b[0m\u001b[1;33m*\u001b[0m\u001b[0margs\u001b[0m\u001b[1;33m,\u001b[0m \u001b[1;33m**\u001b[0m\u001b[0mkwargs\u001b[0m\u001b[1;33m)\u001b[0m\u001b[1;33m\u001b[0m\u001b[1;33m\u001b[0m\u001b[0m\n\u001b[0m\u001b[0;32m    312\u001b[0m \u001b[1;33m\u001b[0m\u001b[0m\n\u001b[0;32m    313\u001b[0m         \u001b[1;32mreturn\u001b[0m \u001b[0mwrapper\u001b[0m\u001b[1;33m\u001b[0m\u001b[1;33m\u001b[0m\u001b[0m\n",
      "\u001b[1;32mc:\\Users\\zijlm\\anaconda3\\envs\\TIL6022\\lib\\site-packages\\pandas\\io\\parsers\\readers.py\u001b[0m in \u001b[0;36mread_csv\u001b[1;34m(filepath_or_buffer, sep, delimiter, header, names, index_col, usecols, squeeze, prefix, mangle_dupe_cols, dtype, engine, converters, true_values, false_values, skipinitialspace, skiprows, skipfooter, nrows, na_values, keep_default_na, na_filter, verbose, skip_blank_lines, parse_dates, infer_datetime_format, keep_date_col, date_parser, dayfirst, cache_dates, iterator, chunksize, compression, thousands, decimal, lineterminator, quotechar, quoting, doublequote, escapechar, comment, encoding, encoding_errors, dialect, error_bad_lines, warn_bad_lines, on_bad_lines, delim_whitespace, low_memory, memory_map, float_precision, storage_options)\u001b[0m\n\u001b[0;32m    584\u001b[0m     \u001b[0mkwds\u001b[0m\u001b[1;33m.\u001b[0m\u001b[0mupdate\u001b[0m\u001b[1;33m(\u001b[0m\u001b[0mkwds_defaults\u001b[0m\u001b[1;33m)\u001b[0m\u001b[1;33m\u001b[0m\u001b[1;33m\u001b[0m\u001b[0m\n\u001b[0;32m    585\u001b[0m \u001b[1;33m\u001b[0m\u001b[0m\n\u001b[1;32m--> 586\u001b[1;33m     \u001b[1;32mreturn\u001b[0m \u001b[0m_read\u001b[0m\u001b[1;33m(\u001b[0m\u001b[0mfilepath_or_buffer\u001b[0m\u001b[1;33m,\u001b[0m \u001b[0mkwds\u001b[0m\u001b[1;33m)\u001b[0m\u001b[1;33m\u001b[0m\u001b[1;33m\u001b[0m\u001b[0m\n\u001b[0m\u001b[0;32m    587\u001b[0m \u001b[1;33m\u001b[0m\u001b[0m\n\u001b[0;32m    588\u001b[0m \u001b[1;33m\u001b[0m\u001b[0m\n",
      "\u001b[1;32mc:\\Users\\zijlm\\anaconda3\\envs\\TIL6022\\lib\\site-packages\\pandas\\io\\parsers\\readers.py\u001b[0m in \u001b[0;36m_read\u001b[1;34m(filepath_or_buffer, kwds)\u001b[0m\n\u001b[0;32m    480\u001b[0m \u001b[1;33m\u001b[0m\u001b[0m\n\u001b[0;32m    481\u001b[0m     \u001b[1;31m# Create the parser.\u001b[0m\u001b[1;33m\u001b[0m\u001b[1;33m\u001b[0m\u001b[1;33m\u001b[0m\u001b[0m\n\u001b[1;32m--> 482\u001b[1;33m     \u001b[0mparser\u001b[0m \u001b[1;33m=\u001b[0m \u001b[0mTextFileReader\u001b[0m\u001b[1;33m(\u001b[0m\u001b[0mfilepath_or_buffer\u001b[0m\u001b[1;33m,\u001b[0m \u001b[1;33m**\u001b[0m\u001b[0mkwds\u001b[0m\u001b[1;33m)\u001b[0m\u001b[1;33m\u001b[0m\u001b[1;33m\u001b[0m\u001b[0m\n\u001b[0m\u001b[0;32m    483\u001b[0m \u001b[1;33m\u001b[0m\u001b[0m\n\u001b[0;32m    484\u001b[0m     \u001b[1;32mif\u001b[0m \u001b[0mchunksize\u001b[0m \u001b[1;32mor\u001b[0m \u001b[0miterator\u001b[0m\u001b[1;33m:\u001b[0m\u001b[1;33m\u001b[0m\u001b[1;33m\u001b[0m\u001b[0m\n",
      "\u001b[1;32mc:\\Users\\zijlm\\anaconda3\\envs\\TIL6022\\lib\\site-packages\\pandas\\io\\parsers\\readers.py\u001b[0m in \u001b[0;36m__init__\u001b[1;34m(self, f, engine, **kwds)\u001b[0m\n\u001b[0;32m    809\u001b[0m             \u001b[0mself\u001b[0m\u001b[1;33m.\u001b[0m\u001b[0moptions\u001b[0m\u001b[1;33m[\u001b[0m\u001b[1;34m\"has_index_names\"\u001b[0m\u001b[1;33m]\u001b[0m \u001b[1;33m=\u001b[0m \u001b[0mkwds\u001b[0m\u001b[1;33m[\u001b[0m\u001b[1;34m\"has_index_names\"\u001b[0m\u001b[1;33m]\u001b[0m\u001b[1;33m\u001b[0m\u001b[1;33m\u001b[0m\u001b[0m\n\u001b[0;32m    810\u001b[0m \u001b[1;33m\u001b[0m\u001b[0m\n\u001b[1;32m--> 811\u001b[1;33m         \u001b[0mself\u001b[0m\u001b[1;33m.\u001b[0m\u001b[0m_engine\u001b[0m \u001b[1;33m=\u001b[0m \u001b[0mself\u001b[0m\u001b[1;33m.\u001b[0m\u001b[0m_make_engine\u001b[0m\u001b[1;33m(\u001b[0m\u001b[0mself\u001b[0m\u001b[1;33m.\u001b[0m\u001b[0mengine\u001b[0m\u001b[1;33m)\u001b[0m\u001b[1;33m\u001b[0m\u001b[1;33m\u001b[0m\u001b[0m\n\u001b[0m\u001b[0;32m    812\u001b[0m \u001b[1;33m\u001b[0m\u001b[0m\n\u001b[0;32m    813\u001b[0m     \u001b[1;32mdef\u001b[0m \u001b[0mclose\u001b[0m\u001b[1;33m(\u001b[0m\u001b[0mself\u001b[0m\u001b[1;33m)\u001b[0m\u001b[1;33m:\u001b[0m\u001b[1;33m\u001b[0m\u001b[1;33m\u001b[0m\u001b[0m\n",
      "\u001b[1;32mc:\\Users\\zijlm\\anaconda3\\envs\\TIL6022\\lib\\site-packages\\pandas\\io\\parsers\\readers.py\u001b[0m in \u001b[0;36m_make_engine\u001b[1;34m(self, engine)\u001b[0m\n\u001b[0;32m   1038\u001b[0m             )\n\u001b[0;32m   1039\u001b[0m         \u001b[1;31m# error: Too many arguments for \"ParserBase\"\u001b[0m\u001b[1;33m\u001b[0m\u001b[1;33m\u001b[0m\u001b[1;33m\u001b[0m\u001b[0m\n\u001b[1;32m-> 1040\u001b[1;33m         \u001b[1;32mreturn\u001b[0m \u001b[0mmapping\u001b[0m\u001b[1;33m[\u001b[0m\u001b[0mengine\u001b[0m\u001b[1;33m]\u001b[0m\u001b[1;33m(\u001b[0m\u001b[0mself\u001b[0m\u001b[1;33m.\u001b[0m\u001b[0mf\u001b[0m\u001b[1;33m,\u001b[0m \u001b[1;33m**\u001b[0m\u001b[0mself\u001b[0m\u001b[1;33m.\u001b[0m\u001b[0moptions\u001b[0m\u001b[1;33m)\u001b[0m  \u001b[1;31m# type: ignore[call-arg]\u001b[0m\u001b[1;33m\u001b[0m\u001b[1;33m\u001b[0m\u001b[0m\n\u001b[0m\u001b[0;32m   1041\u001b[0m \u001b[1;33m\u001b[0m\u001b[0m\n\u001b[0;32m   1042\u001b[0m     \u001b[1;32mdef\u001b[0m \u001b[0m_failover_to_python\u001b[0m\u001b[1;33m(\u001b[0m\u001b[0mself\u001b[0m\u001b[1;33m)\u001b[0m\u001b[1;33m:\u001b[0m\u001b[1;33m\u001b[0m\u001b[1;33m\u001b[0m\u001b[0m\n",
      "\u001b[1;32mc:\\Users\\zijlm\\anaconda3\\envs\\TIL6022\\lib\\site-packages\\pandas\\io\\parsers\\c_parser_wrapper.py\u001b[0m in \u001b[0;36m__init__\u001b[1;34m(self, src, **kwds)\u001b[0m\n\u001b[0;32m     67\u001b[0m         \u001b[0mkwds\u001b[0m\u001b[1;33m[\u001b[0m\u001b[1;34m\"dtype\"\u001b[0m\u001b[1;33m]\u001b[0m \u001b[1;33m=\u001b[0m \u001b[0mensure_dtype_objs\u001b[0m\u001b[1;33m(\u001b[0m\u001b[0mkwds\u001b[0m\u001b[1;33m.\u001b[0m\u001b[0mget\u001b[0m\u001b[1;33m(\u001b[0m\u001b[1;34m\"dtype\"\u001b[0m\u001b[1;33m,\u001b[0m \u001b[1;32mNone\u001b[0m\u001b[1;33m)\u001b[0m\u001b[1;33m)\u001b[0m\u001b[1;33m\u001b[0m\u001b[1;33m\u001b[0m\u001b[0m\n\u001b[0;32m     68\u001b[0m         \u001b[1;32mtry\u001b[0m\u001b[1;33m:\u001b[0m\u001b[1;33m\u001b[0m\u001b[1;33m\u001b[0m\u001b[0m\n\u001b[1;32m---> 69\u001b[1;33m             \u001b[0mself\u001b[0m\u001b[1;33m.\u001b[0m\u001b[0m_reader\u001b[0m \u001b[1;33m=\u001b[0m \u001b[0mparsers\u001b[0m\u001b[1;33m.\u001b[0m\u001b[0mTextReader\u001b[0m\u001b[1;33m(\u001b[0m\u001b[0mself\u001b[0m\u001b[1;33m.\u001b[0m\u001b[0mhandles\u001b[0m\u001b[1;33m.\u001b[0m\u001b[0mhandle\u001b[0m\u001b[1;33m,\u001b[0m \u001b[1;33m**\u001b[0m\u001b[0mkwds\u001b[0m\u001b[1;33m)\u001b[0m\u001b[1;33m\u001b[0m\u001b[1;33m\u001b[0m\u001b[0m\n\u001b[0m\u001b[0;32m     70\u001b[0m         \u001b[1;32mexcept\u001b[0m \u001b[0mException\u001b[0m\u001b[1;33m:\u001b[0m\u001b[1;33m\u001b[0m\u001b[1;33m\u001b[0m\u001b[0m\n\u001b[0;32m     71\u001b[0m             \u001b[0mself\u001b[0m\u001b[1;33m.\u001b[0m\u001b[0mhandles\u001b[0m\u001b[1;33m.\u001b[0m\u001b[0mclose\u001b[0m\u001b[1;33m(\u001b[0m\u001b[1;33m)\u001b[0m\u001b[1;33m\u001b[0m\u001b[1;33m\u001b[0m\u001b[0m\n",
      "\u001b[1;32mc:\\Users\\zijlm\\anaconda3\\envs\\TIL6022\\lib\\site-packages\\pandas\\_libs\\parsers.pyx\u001b[0m in \u001b[0;36mpandas._libs.parsers.TextReader.__cinit__\u001b[1;34m()\u001b[0m\n",
      "\u001b[1;32mc:\\Users\\zijlm\\anaconda3\\envs\\TIL6022\\lib\\site-packages\\pandas\\_libs\\parsers.pyx\u001b[0m in \u001b[0;36mpandas._libs.parsers.TextReader._get_header\u001b[1;34m()\u001b[0m\n",
      "\u001b[1;32mc:\\Users\\zijlm\\anaconda3\\envs\\TIL6022\\lib\\site-packages\\pandas\\_libs\\parsers.pyx\u001b[0m in \u001b[0;36mpandas._libs.parsers.TextReader._tokenize_rows\u001b[1;34m()\u001b[0m\n",
      "\u001b[1;32mc:\\Users\\zijlm\\anaconda3\\envs\\TIL6022\\lib\\site-packages\\pandas\\_libs\\parsers.pyx\u001b[0m in \u001b[0;36mpandas._libs.parsers.raise_parser_error\u001b[1;34m()\u001b[0m\n",
      "\u001b[1;31mUnicodeDecodeError\u001b[0m: 'utf-8' codec can't decode byte 0xd2 in position 7431: invalid continuation byte"
     ]
    }
   ],
   "source": [
    "import pandas as pd\n",
    "\n",
    "file_path = 'data/NetflixOriginals.csv'\n",
    "df = pd.read_csv(file_path)\n",
    "df"
   ]
  },
  {
   "cell_type": "markdown",
   "metadata": {},
   "source": [
    "Solution to the encoding problem [here](https://www.kaggle.com/code/paultimothymooney/how-to-resolve-a-unicodedecodeerror-for-a-csv-file/notebook)"
   ]
  },
  {
   "cell_type": "code",
   "execution_count": 36,
   "metadata": {},
   "outputs": [],
   "source": [
    "import chardet\n",
    "with open(file_path,'rb') as rawdata:\n",
    "    result = chardet.detect(rawdata.read(100000))\n",
    "result\n",
    "\n",
    "df = pd.read_csv(file_path,encoding='Windows-1252')\n",
    "# YOUR CODE HERE"
   ]
  },
  {
   "cell_type": "markdown",
   "metadata": {},
   "source": [
    "## 2.2 Show the first 3 rows"
   ]
  },
  {
   "cell_type": "code",
   "execution_count": 37,
   "metadata": {},
   "outputs": [
    {
     "data": {
      "text/html": [
       "<div>\n",
       "<style scoped>\n",
       "    .dataframe tbody tr th:only-of-type {\n",
       "        vertical-align: middle;\n",
       "    }\n",
       "\n",
       "    .dataframe tbody tr th {\n",
       "        vertical-align: top;\n",
       "    }\n",
       "\n",
       "    .dataframe thead th {\n",
       "        text-align: right;\n",
       "    }\n",
       "</style>\n",
       "<table border=\"1\" class=\"dataframe\">\n",
       "  <thead>\n",
       "    <tr style=\"text-align: right;\">\n",
       "      <th></th>\n",
       "      <th>Title</th>\n",
       "      <th>Genre</th>\n",
       "      <th>Premiere</th>\n",
       "      <th>Runtime</th>\n",
       "      <th>IMDB Score</th>\n",
       "      <th>Language</th>\n",
       "    </tr>\n",
       "  </thead>\n",
       "  <tbody>\n",
       "    <tr>\n",
       "      <th>0</th>\n",
       "      <td>Enter the Anime</td>\n",
       "      <td>Documentary</td>\n",
       "      <td>August 5, 2019</td>\n",
       "      <td>58</td>\n",
       "      <td>2.5</td>\n",
       "      <td>English/Japanese</td>\n",
       "    </tr>\n",
       "    <tr>\n",
       "      <th>1</th>\n",
       "      <td>Dark Forces</td>\n",
       "      <td>Thriller</td>\n",
       "      <td>August 21, 2020</td>\n",
       "      <td>81</td>\n",
       "      <td>2.6</td>\n",
       "      <td>Spanish</td>\n",
       "    </tr>\n",
       "    <tr>\n",
       "      <th>2</th>\n",
       "      <td>The App</td>\n",
       "      <td>Science fiction/Drama</td>\n",
       "      <td>December 26, 2019</td>\n",
       "      <td>79</td>\n",
       "      <td>2.6</td>\n",
       "      <td>Italian</td>\n",
       "    </tr>\n",
       "  </tbody>\n",
       "</table>\n",
       "</div>"
      ],
      "text/plain": [
       "             Title                  Genre           Premiere  Runtime  \\\n",
       "0  Enter the Anime            Documentary     August 5, 2019       58   \n",
       "1      Dark Forces               Thriller    August 21, 2020       81   \n",
       "2          The App  Science fiction/Drama  December 26, 2019       79   \n",
       "\n",
       "   IMDB Score          Language  \n",
       "0         2.5  English/Japanese  \n",
       "1         2.6           Spanish  \n",
       "2         2.6           Italian  "
      ]
     },
     "execution_count": 37,
     "metadata": {},
     "output_type": "execute_result"
    }
   ],
   "source": [
    "df.iloc[0:3]\n"
   ]
  },
  {
   "cell_type": "markdown",
   "metadata": {},
   "source": [
    "## 2.3. Show the last 5 rows"
   ]
  },
  {
   "cell_type": "code",
   "execution_count": 48,
   "metadata": {},
   "outputs": [
    {
     "data": {
      "text/html": [
       "<div>\n",
       "<style scoped>\n",
       "    .dataframe tbody tr th:only-of-type {\n",
       "        vertical-align: middle;\n",
       "    }\n",
       "\n",
       "    .dataframe tbody tr th {\n",
       "        vertical-align: top;\n",
       "    }\n",
       "\n",
       "    .dataframe thead th {\n",
       "        text-align: right;\n",
       "    }\n",
       "</style>\n",
       "<table border=\"1\" class=\"dataframe\">\n",
       "  <thead>\n",
       "    <tr style=\"text-align: right;\">\n",
       "      <th></th>\n",
       "      <th>Title</th>\n",
       "      <th>Genre</th>\n",
       "      <th>Premiere</th>\n",
       "      <th>Runtime</th>\n",
       "      <th>IMDB Score</th>\n",
       "      <th>Language</th>\n",
       "    </tr>\n",
       "  </thead>\n",
       "  <tbody>\n",
       "    <tr>\n",
       "      <th>578</th>\n",
       "      <td>Ben Platt: Live from Radio City Music Hall</td>\n",
       "      <td>Concert Film</td>\n",
       "      <td>May 20, 2020</td>\n",
       "      <td>85</td>\n",
       "      <td>8.4</td>\n",
       "      <td>English</td>\n",
       "    </tr>\n",
       "    <tr>\n",
       "      <th>579</th>\n",
       "      <td>Taylor Swift: Reputation Stadium Tour</td>\n",
       "      <td>Concert Film</td>\n",
       "      <td>December 31, 2018</td>\n",
       "      <td>125</td>\n",
       "      <td>8.4</td>\n",
       "      <td>English</td>\n",
       "    </tr>\n",
       "    <tr>\n",
       "      <th>580</th>\n",
       "      <td>Winter on Fire: Ukraine's Fight for Freedom</td>\n",
       "      <td>Documentary</td>\n",
       "      <td>October 9, 2015</td>\n",
       "      <td>91</td>\n",
       "      <td>8.4</td>\n",
       "      <td>English/Ukranian/Russian</td>\n",
       "    </tr>\n",
       "    <tr>\n",
       "      <th>581</th>\n",
       "      <td>Springsteen on Broadway</td>\n",
       "      <td>One-man show</td>\n",
       "      <td>December 16, 2018</td>\n",
       "      <td>153</td>\n",
       "      <td>8.5</td>\n",
       "      <td>English</td>\n",
       "    </tr>\n",
       "    <tr>\n",
       "      <th>582</th>\n",
       "      <td>Emicida: AmarElo - It's All For Yesterday</td>\n",
       "      <td>Documentary</td>\n",
       "      <td>December 8, 2020</td>\n",
       "      <td>89</td>\n",
       "      <td>8.6</td>\n",
       "      <td>Portuguese</td>\n",
       "    </tr>\n",
       "  </tbody>\n",
       "</table>\n",
       "</div>"
      ],
      "text/plain": [
       "                                           Title         Genre  \\\n",
       "578   Ben Platt: Live from Radio City Music Hall  Concert Film   \n",
       "579        Taylor Swift: Reputation Stadium Tour  Concert Film   \n",
       "580  Winter on Fire: Ukraine's Fight for Freedom   Documentary   \n",
       "581                      Springsteen on Broadway  One-man show   \n",
       "582    Emicida: AmarElo - It's All For Yesterday   Documentary   \n",
       "\n",
       "              Premiere  Runtime  IMDB Score                  Language  \n",
       "578       May 20, 2020       85         8.4                   English  \n",
       "579  December 31, 2018      125         8.4                   English  \n",
       "580    October 9, 2015       91         8.4  English/Ukranian/Russian  \n",
       "581  December 16, 2018      153         8.5                   English  \n",
       "582   December 8, 2020       89         8.6                Portuguese  "
      ]
     },
     "execution_count": 48,
     "metadata": {},
     "output_type": "execute_result"
    }
   ],
   "source": [
    "df.iloc[-6:-1]"
   ]
  },
  {
   "cell_type": "markdown",
   "metadata": {},
   "source": [
    "## 2.4. Show the title and the genre of the 100th movie in the database?"
   ]
  },
  {
   "cell_type": "code",
   "execution_count": 55,
   "metadata": {},
   "outputs": [
    {
     "data": {
      "text/plain": [
       "Title    Game Over, Man!\n",
       "Genre      Action/Comedy\n",
       "Name: 99, dtype: object"
      ]
     },
     "execution_count": 55,
     "metadata": {},
     "output_type": "execute_result"
    }
   ],
   "source": [
    "df.iloc[99,0:2]"
   ]
  },
  {
   "cell_type": "markdown",
   "metadata": {},
   "source": [
    "## 2.5. Set the column Title as index for the dataset."
   ]
  },
  {
   "cell_type": "code",
   "execution_count": 62,
   "metadata": {},
   "outputs": [
    {
     "ename": "KeyError",
     "evalue": "\"None of ['Title'] are in the columns\"",
     "output_type": "error",
     "traceback": [
      "\u001b[1;31m---------------------------------------------------------------------------\u001b[0m",
      "\u001b[1;31mKeyError\u001b[0m                                  Traceback (most recent call last)",
      "\u001b[1;32m~\\AppData\\Local\\Temp\\ipykernel_8380\\1483619192.py\u001b[0m in \u001b[0;36m<module>\u001b[1;34m\u001b[0m\n\u001b[1;32m----> 1\u001b[1;33m \u001b[0mdf\u001b[0m\u001b[1;33m.\u001b[0m\u001b[0mset_index\u001b[0m\u001b[1;33m(\u001b[0m\u001b[1;34m'Title'\u001b[0m\u001b[1;33m,\u001b[0m \u001b[0minplace\u001b[0m\u001b[1;33m=\u001b[0m\u001b[1;32mTrue\u001b[0m\u001b[1;33m)\u001b[0m\u001b[1;33m\u001b[0m\u001b[1;33m\u001b[0m\u001b[0m\n\u001b[0m\u001b[0;32m      2\u001b[0m \u001b[0mdf\u001b[0m\u001b[1;33m\u001b[0m\u001b[1;33m\u001b[0m\u001b[0m\n",
      "\u001b[1;32mc:\\Users\\zijlm\\anaconda3\\envs\\TIL6022\\lib\\site-packages\\pandas\\util\\_decorators.py\u001b[0m in \u001b[0;36mwrapper\u001b[1;34m(*args, **kwargs)\u001b[0m\n\u001b[0;32m    309\u001b[0m                     \u001b[0mstacklevel\u001b[0m\u001b[1;33m=\u001b[0m\u001b[0mstacklevel\u001b[0m\u001b[1;33m,\u001b[0m\u001b[1;33m\u001b[0m\u001b[1;33m\u001b[0m\u001b[0m\n\u001b[0;32m    310\u001b[0m                 )\n\u001b[1;32m--> 311\u001b[1;33m             \u001b[1;32mreturn\u001b[0m \u001b[0mfunc\u001b[0m\u001b[1;33m(\u001b[0m\u001b[1;33m*\u001b[0m\u001b[0margs\u001b[0m\u001b[1;33m,\u001b[0m \u001b[1;33m**\u001b[0m\u001b[0mkwargs\u001b[0m\u001b[1;33m)\u001b[0m\u001b[1;33m\u001b[0m\u001b[1;33m\u001b[0m\u001b[0m\n\u001b[0m\u001b[0;32m    312\u001b[0m \u001b[1;33m\u001b[0m\u001b[0m\n\u001b[0;32m    313\u001b[0m         \u001b[1;32mreturn\u001b[0m \u001b[0mwrapper\u001b[0m\u001b[1;33m\u001b[0m\u001b[1;33m\u001b[0m\u001b[0m\n",
      "\u001b[1;32mc:\\Users\\zijlm\\anaconda3\\envs\\TIL6022\\lib\\site-packages\\pandas\\core\\frame.py\u001b[0m in \u001b[0;36mset_index\u001b[1;34m(self, keys, drop, append, inplace, verify_integrity)\u001b[0m\n\u001b[0;32m   5449\u001b[0m \u001b[1;33m\u001b[0m\u001b[0m\n\u001b[0;32m   5450\u001b[0m         \u001b[1;32mif\u001b[0m \u001b[0mmissing\u001b[0m\u001b[1;33m:\u001b[0m\u001b[1;33m\u001b[0m\u001b[1;33m\u001b[0m\u001b[0m\n\u001b[1;32m-> 5451\u001b[1;33m             \u001b[1;32mraise\u001b[0m \u001b[0mKeyError\u001b[0m\u001b[1;33m(\u001b[0m\u001b[1;34mf\"None of {missing} are in the columns\"\u001b[0m\u001b[1;33m)\u001b[0m\u001b[1;33m\u001b[0m\u001b[1;33m\u001b[0m\u001b[0m\n\u001b[0m\u001b[0;32m   5452\u001b[0m \u001b[1;33m\u001b[0m\u001b[0m\n\u001b[0;32m   5453\u001b[0m         \u001b[1;32mif\u001b[0m \u001b[0minplace\u001b[0m\u001b[1;33m:\u001b[0m\u001b[1;33m\u001b[0m\u001b[1;33m\u001b[0m\u001b[0m\n",
      "\u001b[1;31mKeyError\u001b[0m: \"None of ['Title'] are in the columns\""
     ]
    }
   ],
   "source": [
    "df.set_index('Title', inplace=True)"
   ]
  },
  {
   "cell_type": "markdown",
   "metadata": {},
   "source": [
    "Show the first 5 rows"
   ]
  },
  {
   "cell_type": "markdown",
   "metadata": {},
   "source": [
    "## 2.6. How many movies are there in the dataset?"
   ]
  },
  {
   "cell_type": "code",
   "execution_count": 67,
   "metadata": {},
   "outputs": [
    {
     "data": {
      "text/plain": [
       "Genre         584\n",
       "Premiere      584\n",
       "Runtime       584\n",
       "IMDB Score    584\n",
       "Language      584\n",
       "dtype: int64"
      ]
     },
     "execution_count": 67,
     "metadata": {},
     "output_type": "execute_result"
    }
   ],
   "source": [
    "df.count()"
   ]
  },
  {
   "cell_type": "markdown",
   "metadata": {},
   "source": [
    "## 2.7. For each movie, what information are available?"
   ]
  },
  {
   "cell_type": "code",
   "execution_count": null,
   "metadata": {},
   "outputs": [],
   "source": [
    "# YOUR CODE HERE"
   ]
  },
  {
   "cell_type": "markdown",
   "metadata": {},
   "source": [
    "## 2.8. What is the highest IMDB score in the dataset?"
   ]
  },
  {
   "cell_type": "code",
   "execution_count": 68,
   "metadata": {},
   "outputs": [
    {
     "data": {
      "text/plain": [
       "9.0"
      ]
     },
     "execution_count": 68,
     "metadata": {},
     "output_type": "execute_result"
    }
   ],
   "source": [
    "df['IMDB Score'].max()"
   ]
  },
  {
   "cell_type": "markdown",
   "metadata": {},
   "source": []
  },
  {
   "cell_type": "markdown",
   "metadata": {},
   "source": [
    "## 2.9. Which movies are scored the highest?"
   ]
  },
  {
   "cell_type": "code",
   "execution_count": 92,
   "metadata": {},
   "outputs": [
    {
     "data": {
      "text/html": [
       "<div>\n",
       "<style scoped>\n",
       "    .dataframe tbody tr th:only-of-type {\n",
       "        vertical-align: middle;\n",
       "    }\n",
       "\n",
       "    .dataframe tbody tr th {\n",
       "        vertical-align: top;\n",
       "    }\n",
       "\n",
       "    .dataframe thead th {\n",
       "        text-align: right;\n",
       "    }\n",
       "</style>\n",
       "<table border=\"1\" class=\"dataframe\">\n",
       "  <thead>\n",
       "    <tr style=\"text-align: right;\">\n",
       "      <th></th>\n",
       "      <th>Genre</th>\n",
       "      <th>Premiere</th>\n",
       "      <th>Runtime</th>\n",
       "      <th>IMDB Score</th>\n",
       "      <th>Language</th>\n",
       "    </tr>\n",
       "    <tr>\n",
       "      <th>Title</th>\n",
       "      <th></th>\n",
       "      <th></th>\n",
       "      <th></th>\n",
       "      <th></th>\n",
       "      <th></th>\n",
       "    </tr>\n",
       "  </thead>\n",
       "  <tbody>\n",
       "    <tr>\n",
       "      <th>Chasing Coral</th>\n",
       "      <td>Documentary</td>\n",
       "      <td>July 14, 2017</td>\n",
       "      <td>89</td>\n",
       "      <td>8.1</td>\n",
       "      <td>English</td>\n",
       "    </tr>\n",
       "    <tr>\n",
       "      <th>My Octopus Teacher</th>\n",
       "      <td>Documentary</td>\n",
       "      <td>September 7, 2020</td>\n",
       "      <td>85</td>\n",
       "      <td>8.1</td>\n",
       "      <td>English</td>\n",
       "    </tr>\n",
       "    <tr>\n",
       "      <th>Rising Phoenix</th>\n",
       "      <td>Documentary</td>\n",
       "      <td>August 26, 2020</td>\n",
       "      <td>106</td>\n",
       "      <td>8.1</td>\n",
       "      <td>English</td>\n",
       "    </tr>\n",
       "    <tr>\n",
       "      <th>13th</th>\n",
       "      <td>Documentary</td>\n",
       "      <td>October 7, 2016</td>\n",
       "      <td>100</td>\n",
       "      <td>8.2</td>\n",
       "      <td>English</td>\n",
       "    </tr>\n",
       "    <tr>\n",
       "      <th>Disclosure: Trans Lives on Screen</th>\n",
       "      <td>Documentary</td>\n",
       "      <td>June 19, 2020</td>\n",
       "      <td>107</td>\n",
       "      <td>8.2</td>\n",
       "      <td>English</td>\n",
       "    </tr>\n",
       "    <tr>\n",
       "      <th>Klaus</th>\n",
       "      <td>Animation/Christmas/Comedy/Adventure</td>\n",
       "      <td>November 15, 2019</td>\n",
       "      <td>97</td>\n",
       "      <td>8.2</td>\n",
       "      <td>English</td>\n",
       "    </tr>\n",
       "    <tr>\n",
       "      <th>Seaspiracy</th>\n",
       "      <td>Documentary</td>\n",
       "      <td>March 24, 2021</td>\n",
       "      <td>89</td>\n",
       "      <td>8.2</td>\n",
       "      <td>English</td>\n",
       "    </tr>\n",
       "    <tr>\n",
       "      <th>The Three Deaths of Marisela Escobedo</th>\n",
       "      <td>Documentary</td>\n",
       "      <td>October 14, 2020</td>\n",
       "      <td>109</td>\n",
       "      <td>8.2</td>\n",
       "      <td>Spanish</td>\n",
       "    </tr>\n",
       "    <tr>\n",
       "      <th>Cuba and the Cameraman</th>\n",
       "      <td>Documentary</td>\n",
       "      <td>November 24, 2017</td>\n",
       "      <td>114</td>\n",
       "      <td>8.3</td>\n",
       "      <td>English</td>\n",
       "    </tr>\n",
       "    <tr>\n",
       "      <th>Dancing with the Birds</th>\n",
       "      <td>Documentary</td>\n",
       "      <td>October 23, 2019</td>\n",
       "      <td>51</td>\n",
       "      <td>8.3</td>\n",
       "      <td>English</td>\n",
       "    </tr>\n",
       "    <tr>\n",
       "      <th>Ben Platt: Live from Radio City Music Hall</th>\n",
       "      <td>Concert Film</td>\n",
       "      <td>May 20, 2020</td>\n",
       "      <td>85</td>\n",
       "      <td>8.4</td>\n",
       "      <td>English</td>\n",
       "    </tr>\n",
       "    <tr>\n",
       "      <th>Taylor Swift: Reputation Stadium Tour</th>\n",
       "      <td>Concert Film</td>\n",
       "      <td>December 31, 2018</td>\n",
       "      <td>125</td>\n",
       "      <td>8.4</td>\n",
       "      <td>English</td>\n",
       "    </tr>\n",
       "    <tr>\n",
       "      <th>Winter on Fire: Ukraine's Fight for Freedom</th>\n",
       "      <td>Documentary</td>\n",
       "      <td>October 9, 2015</td>\n",
       "      <td>91</td>\n",
       "      <td>8.4</td>\n",
       "      <td>English/Ukranian/Russian</td>\n",
       "    </tr>\n",
       "    <tr>\n",
       "      <th>Springsteen on Broadway</th>\n",
       "      <td>One-man show</td>\n",
       "      <td>December 16, 2018</td>\n",
       "      <td>153</td>\n",
       "      <td>8.5</td>\n",
       "      <td>English</td>\n",
       "    </tr>\n",
       "    <tr>\n",
       "      <th>Emicida: AmarElo - It's All For Yesterday</th>\n",
       "      <td>Documentary</td>\n",
       "      <td>December 8, 2020</td>\n",
       "      <td>89</td>\n",
       "      <td>8.6</td>\n",
       "      <td>Portuguese</td>\n",
       "    </tr>\n",
       "    <tr>\n",
       "      <th>David Attenborough: A Life on Our Planet</th>\n",
       "      <td>Documentary</td>\n",
       "      <td>October 4, 2020</td>\n",
       "      <td>83</td>\n",
       "      <td>9.0</td>\n",
       "      <td>English</td>\n",
       "    </tr>\n",
       "  </tbody>\n",
       "</table>\n",
       "</div>"
      ],
      "text/plain": [
       "                                                                            Genre  \\\n",
       "Title                                                                               \n",
       "Chasing Coral                                                         Documentary   \n",
       "My Octopus Teacher                                                    Documentary   \n",
       "Rising Phoenix                                                        Documentary   \n",
       "13th                                                                  Documentary   \n",
       "Disclosure: Trans Lives on Screen                                     Documentary   \n",
       "Klaus                                        Animation/Christmas/Comedy/Adventure   \n",
       "Seaspiracy                                                            Documentary   \n",
       "The Three Deaths of Marisela Escobedo                                 Documentary   \n",
       "Cuba and the Cameraman                                                Documentary   \n",
       "Dancing with the Birds                                                Documentary   \n",
       "Ben Platt: Live from Radio City Music Hall                           Concert Film   \n",
       "Taylor Swift: Reputation Stadium Tour                                Concert Film   \n",
       "Winter on Fire: Ukraine's Fight for Freedom                           Documentary   \n",
       "Springsteen on Broadway                                              One-man show   \n",
       "Emicida: AmarElo - It's All For Yesterday                             Documentary   \n",
       "David Attenborough: A Life on Our Planet                              Documentary   \n",
       "\n",
       "                                                      Premiere  Runtime  \\\n",
       "Title                                                                     \n",
       "Chasing Coral                                    July 14, 2017       89   \n",
       "My Octopus Teacher                           September 7, 2020       85   \n",
       "Rising Phoenix                                 August 26, 2020      106   \n",
       "13th                                           October 7, 2016      100   \n",
       "Disclosure: Trans Lives on Screen                June 19, 2020      107   \n",
       "Klaus                                        November 15, 2019       97   \n",
       "Seaspiracy                                      March 24, 2021       89   \n",
       "The Three Deaths of Marisela Escobedo         October 14, 2020      109   \n",
       "Cuba and the Cameraman                       November 24, 2017      114   \n",
       "Dancing with the Birds                        October 23, 2019       51   \n",
       "Ben Platt: Live from Radio City Music Hall        May 20, 2020       85   \n",
       "Taylor Swift: Reputation Stadium Tour        December 31, 2018      125   \n",
       "Winter on Fire: Ukraine's Fight for Freedom    October 9, 2015       91   \n",
       "Springsteen on Broadway                      December 16, 2018      153   \n",
       "Emicida: AmarElo - It's All For Yesterday     December 8, 2020       89   \n",
       "David Attenborough: A Life on Our Planet       October 4, 2020       83   \n",
       "\n",
       "                                             IMDB Score  \\\n",
       "Title                                                     \n",
       "Chasing Coral                                       8.1   \n",
       "My Octopus Teacher                                  8.1   \n",
       "Rising Phoenix                                      8.1   \n",
       "13th                                                8.2   \n",
       "Disclosure: Trans Lives on Screen                   8.2   \n",
       "Klaus                                               8.2   \n",
       "Seaspiracy                                          8.2   \n",
       "The Three Deaths of Marisela Escobedo               8.2   \n",
       "Cuba and the Cameraman                              8.3   \n",
       "Dancing with the Birds                              8.3   \n",
       "Ben Platt: Live from Radio City Music Hall          8.4   \n",
       "Taylor Swift: Reputation Stadium Tour               8.4   \n",
       "Winter on Fire: Ukraine's Fight for Freedom         8.4   \n",
       "Springsteen on Broadway                             8.5   \n",
       "Emicida: AmarElo - It's All For Yesterday           8.6   \n",
       "David Attenborough: A Life on Our Planet            9.0   \n",
       "\n",
       "                                                             Language  \n",
       "Title                                                                  \n",
       "Chasing Coral                                                 English  \n",
       "My Octopus Teacher                                            English  \n",
       "Rising Phoenix                                                English  \n",
       "13th                                                          English  \n",
       "Disclosure: Trans Lives on Screen                             English  \n",
       "Klaus                                                         English  \n",
       "Seaspiracy                                                    English  \n",
       "The Three Deaths of Marisela Escobedo                         Spanish  \n",
       "Cuba and the Cameraman                                        English  \n",
       "Dancing with the Birds                                        English  \n",
       "Ben Platt: Live from Radio City Music Hall                    English  \n",
       "Taylor Swift: Reputation Stadium Tour                         English  \n",
       "Winter on Fire: Ukraine's Fight for Freedom  English/Ukranian/Russian  \n",
       "Springsteen on Broadway                                       English  \n",
       "Emicida: AmarElo - It's All For Yesterday                  Portuguese  \n",
       "David Attenborough: A Life on Our Planet                      English  "
      ]
     },
     "execution_count": 92,
     "metadata": {},
     "output_type": "execute_result"
    }
   ],
   "source": [
    "df[\n",
    "    df['IMDB Score'] > 8\n",
    "]"
   ]
  },
  {
   "cell_type": "markdown",
   "metadata": {},
   "source": [
    "## 2.10. What is the lowest IMDB score?"
   ]
  },
  {
   "cell_type": "code",
   "execution_count": 93,
   "metadata": {},
   "outputs": [
    {
     "data": {
      "text/plain": [
       "2.5"
      ]
     },
     "execution_count": 93,
     "metadata": {},
     "output_type": "execute_result"
    }
   ],
   "source": [
    "df['IMDB Score'].min()"
   ]
  },
  {
   "cell_type": "markdown",
   "metadata": {},
   "source": [
    "## 2.11. What movies are scored the lowest?"
   ]
  },
  {
   "cell_type": "markdown",
   "metadata": {},
   "source": [
    "## 2.12. Consider only-English-language movies, find those that are scored above their average score"
   ]
  },
  {
   "cell_type": "code",
   "execution_count": 133,
   "metadata": {},
   "outputs": [
    {
     "name": "stdout",
     "output_type": "stream",
     "text": [
      "6.380049875311723\n"
     ]
    },
    {
     "data": {
      "text/html": [
       "<div>\n",
       "<style scoped>\n",
       "    .dataframe tbody tr th:only-of-type {\n",
       "        vertical-align: middle;\n",
       "    }\n",
       "\n",
       "    .dataframe tbody tr th {\n",
       "        vertical-align: top;\n",
       "    }\n",
       "\n",
       "    .dataframe thead th {\n",
       "        text-align: right;\n",
       "    }\n",
       "</style>\n",
       "<table border=\"1\" class=\"dataframe\">\n",
       "  <thead>\n",
       "    <tr style=\"text-align: right;\">\n",
       "      <th></th>\n",
       "      <th>Genre</th>\n",
       "      <th>Premiere</th>\n",
       "      <th>Runtime</th>\n",
       "      <th>IMDB Score</th>\n",
       "      <th>Language</th>\n",
       "    </tr>\n",
       "    <tr>\n",
       "      <th>Title</th>\n",
       "      <th></th>\n",
       "      <th></th>\n",
       "      <th></th>\n",
       "      <th></th>\n",
       "      <th></th>\n",
       "    </tr>\n",
       "  </thead>\n",
       "  <tbody>\n",
       "    <tr>\n",
       "      <th>Ariana Grande: Excuse Me, I Love You</th>\n",
       "      <td>Concert Film</td>\n",
       "      <td>December 21, 2020</td>\n",
       "      <td>97</td>\n",
       "      <td>6.4</td>\n",
       "      <td>English</td>\n",
       "    </tr>\n",
       "    <tr>\n",
       "      <th>ARQ</th>\n",
       "      <td>Science fiction/Thriller</td>\n",
       "      <td>September 16, 2016</td>\n",
       "      <td>88</td>\n",
       "      <td>6.4</td>\n",
       "      <td>English</td>\n",
       "    </tr>\n",
       "    <tr>\n",
       "      <th>First Match</th>\n",
       "      <td>Sports-drama</td>\n",
       "      <td>March 30, 2018</td>\n",
       "      <td>102</td>\n",
       "      <td>6.4</td>\n",
       "      <td>English</td>\n",
       "    </tr>\n",
       "    <tr>\n",
       "      <th>Fractured</th>\n",
       "      <td>Thriller</td>\n",
       "      <td>October 11, 2019</td>\n",
       "      <td>100</td>\n",
       "      <td>6.4</td>\n",
       "      <td>English</td>\n",
       "    </tr>\n",
       "    <tr>\n",
       "      <th>Irreplaceable You</th>\n",
       "      <td>Drama</td>\n",
       "      <td>February 16, 2018</td>\n",
       "      <td>96</td>\n",
       "      <td>6.4</td>\n",
       "      <td>English</td>\n",
       "    </tr>\n",
       "    <tr>\n",
       "      <th>...</th>\n",
       "      <td>...</td>\n",
       "      <td>...</td>\n",
       "      <td>...</td>\n",
       "      <td>...</td>\n",
       "      <td>...</td>\n",
       "    </tr>\n",
       "    <tr>\n",
       "      <th>Dancing with the Birds</th>\n",
       "      <td>Documentary</td>\n",
       "      <td>October 23, 2019</td>\n",
       "      <td>51</td>\n",
       "      <td>8.3</td>\n",
       "      <td>English</td>\n",
       "    </tr>\n",
       "    <tr>\n",
       "      <th>Ben Platt: Live from Radio City Music Hall</th>\n",
       "      <td>Concert Film</td>\n",
       "      <td>May 20, 2020</td>\n",
       "      <td>85</td>\n",
       "      <td>8.4</td>\n",
       "      <td>English</td>\n",
       "    </tr>\n",
       "    <tr>\n",
       "      <th>Taylor Swift: Reputation Stadium Tour</th>\n",
       "      <td>Concert Film</td>\n",
       "      <td>December 31, 2018</td>\n",
       "      <td>125</td>\n",
       "      <td>8.4</td>\n",
       "      <td>English</td>\n",
       "    </tr>\n",
       "    <tr>\n",
       "      <th>Springsteen on Broadway</th>\n",
       "      <td>One-man show</td>\n",
       "      <td>December 16, 2018</td>\n",
       "      <td>153</td>\n",
       "      <td>8.5</td>\n",
       "      <td>English</td>\n",
       "    </tr>\n",
       "    <tr>\n",
       "      <th>David Attenborough: A Life on Our Planet</th>\n",
       "      <td>Documentary</td>\n",
       "      <td>October 4, 2020</td>\n",
       "      <td>83</td>\n",
       "      <td>9.0</td>\n",
       "      <td>English</td>\n",
       "    </tr>\n",
       "  </tbody>\n",
       "</table>\n",
       "<p>210 rows × 5 columns</p>\n",
       "</div>"
      ],
      "text/plain": [
       "                                                               Genre  \\\n",
       "Title                                                                  \n",
       "Ariana Grande: Excuse Me, I Love You                    Concert Film   \n",
       "ARQ                                         Science fiction/Thriller   \n",
       "First Match                                             Sports-drama   \n",
       "Fractured                                                   Thriller   \n",
       "Irreplaceable You                                              Drama   \n",
       "...                                                              ...   \n",
       "Dancing with the Birds                                   Documentary   \n",
       "Ben Platt: Live from Radio City Music Hall              Concert Film   \n",
       "Taylor Swift: Reputation Stadium Tour                   Concert Film   \n",
       "Springsteen on Broadway                                 One-man show   \n",
       "David Attenborough: A Life on Our Planet                 Documentary   \n",
       "\n",
       "                                                      Premiere  Runtime  \\\n",
       "Title                                                                     \n",
       "Ariana Grande: Excuse Me, I Love You         December 21, 2020       97   \n",
       "ARQ                                         September 16, 2016       88   \n",
       "First Match                                     March 30, 2018      102   \n",
       "Fractured                                     October 11, 2019      100   \n",
       "Irreplaceable You                            February 16, 2018       96   \n",
       "...                                                        ...      ...   \n",
       "Dancing with the Birds                        October 23, 2019       51   \n",
       "Ben Platt: Live from Radio City Music Hall        May 20, 2020       85   \n",
       "Taylor Swift: Reputation Stadium Tour        December 31, 2018      125   \n",
       "Springsteen on Broadway                      December 16, 2018      153   \n",
       "David Attenborough: A Life on Our Planet       October 4, 2020       83   \n",
       "\n",
       "                                            IMDB Score Language  \n",
       "Title                                                            \n",
       "Ariana Grande: Excuse Me, I Love You               6.4  English  \n",
       "ARQ                                                6.4  English  \n",
       "First Match                                        6.4  English  \n",
       "Fractured                                          6.4  English  \n",
       "Irreplaceable You                                  6.4  English  \n",
       "...                                                ...      ...  \n",
       "Dancing with the Birds                             8.3  English  \n",
       "Ben Platt: Live from Radio City Music Hall         8.4  English  \n",
       "Taylor Swift: Reputation Stadium Tour              8.4  English  \n",
       "Springsteen on Broadway                            8.5  English  \n",
       "David Attenborough: A Life on Our Planet           9.0  English  \n",
       "\n",
       "[210 rows x 5 columns]"
      ]
     },
     "execution_count": 133,
     "metadata": {},
     "output_type": "execute_result"
    }
   ],
   "source": [
    "English_movie = df[\n",
    "    df['Language'] == 'English'\n",
    "]\n",
    "\n",
    "English_movie\n",
    "avg = English_movie[\"IMDB Score\"].mean()\n",
    "print(avg)\n",
    "\n",
    "English_movie_above_avg = English_movie[(English_movie['IMDB Score'] > avg)]\n",
    "English_movie_above_avg\n",
    "# print(df['IMDB Score'].mean())\n",
    "# English = df.groupby(df.Language== 'English')\n",
    "# avg_English = English['IMDB Score'].mean()\n",
    "# print(avg_English)\n",
    "\n",
    "# English[\n",
    "#     English['IMDB Score'] == avg_English\n",
    "# ]"
   ]
  },
  {
   "cell_type": "markdown",
   "metadata": {},
   "source": [
    "## 2.13. (Optional) Is there a correlation between runtime and IMDB score?"
   ]
  },
  {
   "cell_type": "markdown",
   "metadata": {},
   "source": [
    "## 2.14 How many languages available?"
   ]
  },
  {
   "cell_type": "code",
   "execution_count": 136,
   "metadata": {},
   "outputs": [
    {
     "data": {
      "text/plain": [
       "38"
      ]
     },
     "execution_count": 136,
     "metadata": {},
     "output_type": "execute_result"
    }
   ],
   "source": [
    "len(df['Language'].unique())\n",
    "# df.groupby('Language').size()"
   ]
  },
  {
   "cell_type": "markdown",
   "metadata": {},
   "source": [
    "## 2.15. Extract all action movies. Save them into a csv file 'action_movies.csv'"
   ]
  },
  {
   "cell_type": "code",
   "execution_count": 193,
   "metadata": {},
   "outputs": [],
   "source": [
    "genre = df.groupby('Genre')\n",
    "Action_movies = genre.get_group('Action')\n",
    "Action_movies.to_csv('action_movies.csv', index=False)"
   ]
  },
  {
   "cell_type": "markdown",
   "metadata": {},
   "source": [
    "## 2.16. For each genre of movies, answer the following question\n",
    "- How many movies are available in the dataset?"
   ]
  },
  {
   "cell_type": "code",
   "execution_count": 188,
   "metadata": {},
   "outputs": [
    {
     "data": {
      "text/plain": [
       "Genre\n",
       "Action              7\n",
       "Action comedy       5\n",
       "Action thriller     1\n",
       "Action-adventure    1\n",
       "Action-thriller     3\n",
       "                   ..\n",
       "War                 2\n",
       "War drama           2\n",
       "War-Comedy          1\n",
       "Western             3\n",
       "Zombie/Heist        1\n",
       "Length: 115, dtype: int64"
      ]
     },
     "execution_count": 188,
     "metadata": {},
     "output_type": "execute_result"
    }
   ],
   "source": [
    "genre.size()"
   ]
  },
  {
   "cell_type": "markdown",
   "metadata": {},
   "source": [
    "\n",
    "- What are their average score?"
   ]
  },
  {
   "cell_type": "code",
   "execution_count": 202,
   "metadata": {},
   "outputs": [
    {
     "name": "stdout",
     "output_type": "stream",
     "text": [
      "Genre\n",
      "Animation/Christmas/Comedy/Adventure    8.200000\n",
      "Musical / Short                         7.700000\n",
      "Concert Film                            7.633333\n",
      "Anthology/Dark comedy                   7.600000\n",
      "Animation / Science Fiction             7.500000\n",
      "                                          ...   \n",
      "Superhero-Comedy                        4.400000\n",
      "Political thriller                      4.300000\n",
      "Horror anthology                        4.300000\n",
      "Musical/Western/Fantasy                 3.900000\n",
      "Heist film/Thriller                     3.700000\n",
      "Name: IMDB Score, Length: 115, dtype: float64\n"
     ]
    }
   ],
   "source": [
    "avg_score = df.groupby('Genre')['IMDB Score'].mean()\n",
    "print(avg_score)\n",
    "\n",
    "\n",
    "\n",
    "# max(df.groupby('Genre')['IMDB Score'].agg('mean'))"
   ]
  },
  {
   "cell_type": "markdown",
   "metadata": {},
   "source": [
    "## 2.17. On average, what type of movies scores the highest?"
   ]
  },
  {
   "cell_type": "code",
   "execution_count": 205,
   "metadata": {},
   "outputs": [
    {
     "name": "stdout",
     "output_type": "stream",
     "text": [
      "Genre\n",
      "Animation/Christmas/Comedy/Adventure    8.200000\n",
      "Musical / Short                         7.700000\n",
      "Concert Film                            7.633333\n",
      "Anthology/Dark comedy                   7.600000\n",
      "Animation / Science Fiction             7.500000\n",
      "                                          ...   \n",
      "Superhero-Comedy                        4.400000\n",
      "Political thriller                      4.300000\n",
      "Horror anthology                        4.300000\n",
      "Musical/Western/Fantasy                 3.900000\n",
      "Heist film/Thriller                     3.700000\n",
      "Name: IMDB Score, Length: 115, dtype: float64\n"
     ]
    }
   ],
   "source": [
    "avg_score = df.groupby('Genre')['IMDB Score'].mean().sort_values(ascending=False)\n",
    "print(avg_score)"
   ]
  }
 ],
 "metadata": {
  "kernelspec": {
   "display_name": "Python 3.7.13 ('TIL6022')",
   "language": "python",
   "name": "python3"
  },
  "language_info": {
   "codemirror_mode": {
    "name": "ipython",
    "version": 3
   },
   "file_extension": ".py",
   "mimetype": "text/x-python",
   "name": "python",
   "nbconvert_exporter": "python",
   "pygments_lexer": "ipython3",
   "version": "3.7.13"
  },
  "orig_nbformat": 4,
  "vscode": {
   "interpreter": {
    "hash": "d2495c17916e7b3ee0806320ae8258de3e34de2227e6a5ab7d927408f6a57089"
   }
  }
 },
 "nbformat": 4,
 "nbformat_minor": 2
}
