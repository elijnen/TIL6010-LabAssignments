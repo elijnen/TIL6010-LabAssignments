{
 "cells": [
  {
   "cell_type": "markdown",
   "id": "ba7a5dd8",
   "metadata": {},
   "source": [
    "Import relevant packages here."
   ]
  },
  {
   "cell_type": "code",
   "execution_count": 4,
   "id": "6a8838bb",
   "metadata": {},
   "outputs": [],
   "source": [
    "%matplotlib inline\n",
    "import pandas as pd\n",
    "import numpy as np\n",
    "import math\n",
    "import scipy\n",
    "\n",
    "import matplotlib.pyplot as plt\n",
    "import seaborn as sns\n",
    "import plotly.express as px\n",
    "import plotly.graph_objects as go\n",
    "\n",
    "import plotly.io as pio\n",
    "pio.renderers.default = \"plotly_mimetype+notebook\""
   ]
  },
  {
   "cell_type": "markdown",
   "id": "1725519c",
   "metadata": {},
   "source": [
    "Load the data and verify it is loaded correctly.\n",
    "<ul>\n",
    "    <li>Print it (head, tail, or specific rows, choose a sensible number of rows).</li>\n",
    "    <li>Compare it to the source file.</li>\n",
    "<ul>"
   ]
  },
  {
   "cell_type": "code",
   "execution_count": 5,
   "id": "aa4d5e37",
   "metadata": {},
   "outputs": [
    {
     "data": {
      "text/html": [
       "<div>\n",
       "<style scoped>\n",
       "    .dataframe tbody tr th:only-of-type {\n",
       "        vertical-align: middle;\n",
       "    }\n",
       "\n",
       "    .dataframe tbody tr th {\n",
       "        vertical-align: top;\n",
       "    }\n",
       "\n",
       "    .dataframe thead th {\n",
       "        text-align: right;\n",
       "    }\n",
       "</style>\n",
       "<table border=\"1\" class=\"dataframe\">\n",
       "  <thead>\n",
       "    <tr style=\"text-align: right;\">\n",
       "      <th></th>\n",
       "      <th>dv</th>\n",
       "      <th>s</th>\n",
       "      <th>a</th>\n",
       "    </tr>\n",
       "  </thead>\n",
       "  <tbody>\n",
       "    <tr>\n",
       "      <th>0</th>\n",
       "      <td>-0.743240</td>\n",
       "      <td>53.5427</td>\n",
       "      <td>1.242570</td>\n",
       "    </tr>\n",
       "    <tr>\n",
       "      <th>1</th>\n",
       "      <td>-0.557230</td>\n",
       "      <td>53.6120</td>\n",
       "      <td>1.777920</td>\n",
       "    </tr>\n",
       "    <tr>\n",
       "      <th>2</th>\n",
       "      <td>-0.454769</td>\n",
       "      <td>53.6541</td>\n",
       "      <td>0.544107</td>\n",
       "    </tr>\n",
       "    <tr>\n",
       "      <th>3</th>\n",
       "      <td>-0.525396</td>\n",
       "      <td>53.7030</td>\n",
       "      <td>-0.294755</td>\n",
       "    </tr>\n",
       "    <tr>\n",
       "      <th>4</th>\n",
       "      <td>-0.601285</td>\n",
       "      <td>53.7592</td>\n",
       "      <td>-0.290961</td>\n",
       "    </tr>\n",
       "    <tr>\n",
       "      <th>...</th>\n",
       "      <td>...</td>\n",
       "      <td>...</td>\n",
       "      <td>...</td>\n",
       "    </tr>\n",
       "    <tr>\n",
       "      <th>73903</th>\n",
       "      <td>5.198740</td>\n",
       "      <td>116.1390</td>\n",
       "      <td>-0.795081</td>\n",
       "    </tr>\n",
       "    <tr>\n",
       "      <th>73904</th>\n",
       "      <td>5.104280</td>\n",
       "      <td>115.6270</td>\n",
       "      <td>-0.314263</td>\n",
       "    </tr>\n",
       "    <tr>\n",
       "      <th>73905</th>\n",
       "      <td>5.137640</td>\n",
       "      <td>115.1180</td>\n",
       "      <td>0.232283</td>\n",
       "    </tr>\n",
       "    <tr>\n",
       "      <th>73906</th>\n",
       "      <td>5.153480</td>\n",
       "      <td>114.5990</td>\n",
       "      <td>0.262078</td>\n",
       "    </tr>\n",
       "    <tr>\n",
       "      <th>73907</th>\n",
       "      <td>5.258680</td>\n",
       "      <td>113.1120</td>\n",
       "      <td>-0.612440</td>\n",
       "    </tr>\n",
       "  </tbody>\n",
       "</table>\n",
       "<p>73908 rows × 3 columns</p>\n",
       "</div>"
      ],
      "text/plain": [
       "             dv         s         a\n",
       "0     -0.743240   53.5427  1.242570\n",
       "1     -0.557230   53.6120  1.777920\n",
       "2     -0.454769   53.6541  0.544107\n",
       "3     -0.525396   53.7030 -0.294755\n",
       "4     -0.601285   53.7592 -0.290961\n",
       "...         ...       ...       ...\n",
       "73903  5.198740  116.1390 -0.795081\n",
       "73904  5.104280  115.6270 -0.314263\n",
       "73905  5.137640  115.1180  0.232283\n",
       "73906  5.153480  114.5990  0.262078\n",
       "73907  5.258680  113.1120 -0.612440\n",
       "\n",
       "[73908 rows x 3 columns]"
      ]
     },
     "execution_count": 5,
     "metadata": {},
     "output_type": "execute_result"
    }
   ],
   "source": [
    "data = 'C:/users/chaja/Downloads/cf_data.csv '\n",
    "df = pd.read_csv(data, encoding = 'ISO-8859-1')\n",
    "df"
   ]
  },
  {
   "cell_type": "markdown",
   "id": "0f6d5753",
   "metadata": {},
   "source": [
    "In the ensuing, you will use <code>numpy</code>.\n",
    "\n",
    "Lets create a grid for the values to plot. But first create <b>two arrays named <code>dv</code> and <code>s</code></b> using <code>numpy.linspace</code> that hold the grid values at the relevant indices in their respective dimension of the grid.\n",
    "\n",
    "Create a <b>grid named <code>a</code></b> with zeros using <code>numpy.zeros</code> in to which calculated acceleration values can be stored.<br>\n",
    "<br>\n",
    "Let the grid span:<br>\n",
    "<ul>\n",
    "    <li>Speed difference <code>dv</code> [m/s]\n",
    "        <ul>\n",
    "            <li>From -10 till 10</li>\n",
    "            <li>With 41 evenly spaced values</li>\n",
    "        </ul>\n",
    "    </li>\n",
    "    <li>Headway <code>s</code> [m]\n",
    "        <ul>\n",
    "            <li>From 0 till 200</li>\n",
    "            <li>With 21 evenly spaced values</li>\n",
    "        </ul>\n",
    "    </li>\n",
    "</ul>"
   ]
  },
  {
   "cell_type": "code",
   "execution_count": 17,
   "id": "2a5e3ef9",
   "metadata": {},
   "outputs": [
    {
     "name": "stdout",
     "output_type": "stream",
     "text": [
      "[[0. 0. 0. 0. 0. 0. 0. 0. 0. 0. 0. 0. 0. 0. 0. 0. 0. 0. 0. 0. 0.]\n",
      " [0. 0. 0. 0. 0. 0. 0. 0. 0. 0. 0. 0. 0. 0. 0. 0. 0. 0. 0. 0. 0.]\n",
      " [0. 0. 0. 0. 0. 0. 0. 0. 0. 0. 0. 0. 0. 0. 0. 0. 0. 0. 0. 0. 0.]\n",
      " [0. 0. 0. 0. 0. 0. 0. 0. 0. 0. 0. 0. 0. 0. 0. 0. 0. 0. 0. 0. 0.]\n",
      " [0. 0. 0. 0. 0. 0. 0. 0. 0. 0. 0. 0. 0. 0. 0. 0. 0. 0. 0. 0. 0.]\n",
      " [0. 0. 0. 0. 0. 0. 0. 0. 0. 0. 0. 0. 0. 0. 0. 0. 0. 0. 0. 0. 0.]\n",
      " [0. 0. 0. 0. 0. 0. 0. 0. 0. 0. 0. 0. 0. 0. 0. 0. 0. 0. 0. 0. 0.]\n",
      " [0. 0. 0. 0. 0. 0. 0. 0. 0. 0. 0. 0. 0. 0. 0. 0. 0. 0. 0. 0. 0.]\n",
      " [0. 0. 0. 0. 0. 0. 0. 0. 0. 0. 0. 0. 0. 0. 0. 0. 0. 0. 0. 0. 0.]\n",
      " [0. 0. 0. 0. 0. 0. 0. 0. 0. 0. 0. 0. 0. 0. 0. 0. 0. 0. 0. 0. 0.]\n",
      " [0. 0. 0. 0. 0. 0. 0. 0. 0. 0. 0. 0. 0. 0. 0. 0. 0. 0. 0. 0. 0.]\n",
      " [0. 0. 0. 0. 0. 0. 0. 0. 0. 0. 0. 0. 0. 0. 0. 0. 0. 0. 0. 0. 0.]\n",
      " [0. 0. 0. 0. 0. 0. 0. 0. 0. 0. 0. 0. 0. 0. 0. 0. 0. 0. 0. 0. 0.]\n",
      " [0. 0. 0. 0. 0. 0. 0. 0. 0. 0. 0. 0. 0. 0. 0. 0. 0. 0. 0. 0. 0.]\n",
      " [0. 0. 0. 0. 0. 0. 0. 0. 0. 0. 0. 0. 0. 0. 0. 0. 0. 0. 0. 0. 0.]\n",
      " [0. 0. 0. 0. 0. 0. 0. 0. 0. 0. 0. 0. 0. 0. 0. 0. 0. 0. 0. 0. 0.]\n",
      " [0. 0. 0. 0. 0. 0. 0. 0. 0. 0. 0. 0. 0. 0. 0. 0. 0. 0. 0. 0. 0.]\n",
      " [0. 0. 0. 0. 0. 0. 0. 0. 0. 0. 0. 0. 0. 0. 0. 0. 0. 0. 0. 0. 0.]\n",
      " [0. 0. 0. 0. 0. 0. 0. 0. 0. 0. 0. 0. 0. 0. 0. 0. 0. 0. 0. 0. 0.]\n",
      " [0. 0. 0. 0. 0. 0. 0. 0. 0. 0. 0. 0. 0. 0. 0. 0. 0. 0. 0. 0. 0.]\n",
      " [0. 0. 0. 0. 0. 0. 0. 0. 0. 0. 0. 0. 0. 0. 0. 0. 0. 0. 0. 0. 0.]\n",
      " [0. 0. 0. 0. 0. 0. 0. 0. 0. 0. 0. 0. 0. 0. 0. 0. 0. 0. 0. 0. 0.]\n",
      " [0. 0. 0. 0. 0. 0. 0. 0. 0. 0. 0. 0. 0. 0. 0. 0. 0. 0. 0. 0. 0.]\n",
      " [0. 0. 0. 0. 0. 0. 0. 0. 0. 0. 0. 0. 0. 0. 0. 0. 0. 0. 0. 0. 0.]\n",
      " [0. 0. 0. 0. 0. 0. 0. 0. 0. 0. 0. 0. 0. 0. 0. 0. 0. 0. 0. 0. 0.]\n",
      " [0. 0. 0. 0. 0. 0. 0. 0. 0. 0. 0. 0. 0. 0. 0. 0. 0. 0. 0. 0. 0.]\n",
      " [0. 0. 0. 0. 0. 0. 0. 0. 0. 0. 0. 0. 0. 0. 0. 0. 0. 0. 0. 0. 0.]\n",
      " [0. 0. 0. 0. 0. 0. 0. 0. 0. 0. 0. 0. 0. 0. 0. 0. 0. 0. 0. 0. 0.]\n",
      " [0. 0. 0. 0. 0. 0. 0. 0. 0. 0. 0. 0. 0. 0. 0. 0. 0. 0. 0. 0. 0.]\n",
      " [0. 0. 0. 0. 0. 0. 0. 0. 0. 0. 0. 0. 0. 0. 0. 0. 0. 0. 0. 0. 0.]\n",
      " [0. 0. 0. 0. 0. 0. 0. 0. 0. 0. 0. 0. 0. 0. 0. 0. 0. 0. 0. 0. 0.]\n",
      " [0. 0. 0. 0. 0. 0. 0. 0. 0. 0. 0. 0. 0. 0. 0. 0. 0. 0. 0. 0. 0.]\n",
      " [0. 0. 0. 0. 0. 0. 0. 0. 0. 0. 0. 0. 0. 0. 0. 0. 0. 0. 0. 0. 0.]\n",
      " [0. 0. 0. 0. 0. 0. 0. 0. 0. 0. 0. 0. 0. 0. 0. 0. 0. 0. 0. 0. 0.]\n",
      " [0. 0. 0. 0. 0. 0. 0. 0. 0. 0. 0. 0. 0. 0. 0. 0. 0. 0. 0. 0. 0.]\n",
      " [0. 0. 0. 0. 0. 0. 0. 0. 0. 0. 0. 0. 0. 0. 0. 0. 0. 0. 0. 0. 0.]\n",
      " [0. 0. 0. 0. 0. 0. 0. 0. 0. 0. 0. 0. 0. 0. 0. 0. 0. 0. 0. 0. 0.]\n",
      " [0. 0. 0. 0. 0. 0. 0. 0. 0. 0. 0. 0. 0. 0. 0. 0. 0. 0. 0. 0. 0.]\n",
      " [0. 0. 0. 0. 0. 0. 0. 0. 0. 0. 0. 0. 0. 0. 0. 0. 0. 0. 0. 0. 0.]\n",
      " [0. 0. 0. 0. 0. 0. 0. 0. 0. 0. 0. 0. 0. 0. 0. 0. 0. 0. 0. 0. 0.]\n",
      " [0. 0. 0. 0. 0. 0. 0. 0. 0. 0. 0. 0. 0. 0. 0. 0. 0. 0. 0. 0. 0.]]\n"
     ]
    }
   ],
   "source": [
    "dv = np.linspace(-10, 10, num = 41)\n",
    "s = np.linspace(0, 200, num = 21 )\n",
    "a = np.zeros((len(dv), len(s)))\n",
    "print(a)"
   ]
  },
  {
   "cell_type": "markdown",
   "id": "fedab6cf",
   "metadata": {},
   "source": [
    "Create from the imported data 3 separate <code>numpy</code> arrays for each column <code>dv</code>, <code>s</code> and <code>a</code>. (We do this for speed reasons later.)\n",
    "<ul>\n",
    "    <li>Make sure to name them differently from the arrays that belong to the grid as above.</li>\n",
    "    <li>You can access the data of each column in a <code>DataFrame</code> using <code>data.xxx</code> where <code>xxx</code> is the column name (not as a string).</li>\n",
    "    <li>Use the method <code>to_numpy()</code> to convert a column to a <code>numpy</code> array.</li>\n",
    "</ul>"
   ]
  },
  {
   "cell_type": "code",
   "execution_count": 7,
   "id": "8133ecdc",
   "metadata": {},
   "outputs": [],
   "source": [
    "df_dv =df.dv\n",
    "DV = df.dv.to_numpy()\n",
    "df_s =df.s\n",
    "S = df.s.to_numpy()\n",
    "df_a =df.a\n",
    "A = df.a.to_numpy() "
   ]
  },
  {
   "cell_type": "markdown",
   "id": "bbf1585a",
   "metadata": {},
   "source": [
    "Create an algorithm that calculates all the acceleration values and stores them in the grid. The algorithm is described visually in the last part of the lecture. At each grid point, it calculates a weighted mean of all measurements. The weights are given by an exponential function, based on the 'distance' between the grid point, and the measurement values of <code>dv</code> and <code>s</code>. To get you started, how many <code>for</code>-loops do you need?<br>\n",
    "<br>\n",
    "For this you will need <code>math</code>.<br>\n",
    "Use an <i>upsilon</i> of 1.5m/s and a <i>sigma</i> of 30m.<br>\n",
    "<br>\n",
    "<b>Warning:</b> This calculation may take some time. So:\n",
    "<ul>\n",
    "    <li>Print a line for each iteration of the outer-most <code>for</code>-loop that shows you the progress.</li>\n",
    "    <li>Test you code by running it only on the first 50 measurements of the data.</li>\n",
    "</ul>"
   ]
  },
  {
   "cell_type": "code",
   "execution_count": 32,
   "id": "676dd33f",
   "metadata": {},
   "outputs": [
    {
     "name": "stdout",
     "output_type": "stream",
     "text": [
      " Percentage is: 2.4%\n",
      " Percentage is: 4.9%\n",
      " Percentage is: 7.3%\n",
      " Percentage is: 9.8%\n",
      " Percentage is: 12.2%\n",
      " Percentage is: 14.6%\n",
      " Percentage is: 17.1%\n",
      " Percentage is: 19.5%\n",
      " Percentage is: 22.0%\n",
      " Percentage is: 24.4%\n",
      " Percentage is: 26.8%\n",
      " Percentage is: 29.3%\n",
      " Percentage is: 31.7%\n",
      " Percentage is: 34.1%\n",
      " Percentage is: 36.6%\n",
      " Percentage is: 39.0%\n",
      " Percentage is: 41.5%\n",
      " Percentage is: 43.9%\n",
      " Percentage is: 46.3%\n",
      " Percentage is: 48.8%\n",
      " Percentage is: 51.2%\n",
      " Percentage is: 53.7%\n",
      " Percentage is: 56.1%\n",
      " Percentage is: 58.5%\n",
      " Percentage is: 61.0%\n",
      " Percentage is: 63.4%\n",
      " Percentage is: 65.9%\n",
      " Percentage is: 68.3%\n",
      " Percentage is: 70.7%\n",
      " Percentage is: 73.2%\n",
      " Percentage is: 75.6%\n",
      " Percentage is: 78.0%\n",
      " Percentage is: 80.5%\n",
      " Percentage is: 82.9%\n",
      " Percentage is: 85.4%\n",
      " Percentage is: 87.8%\n",
      " Percentage is: 90.2%\n",
      " Percentage is: 92.7%\n",
      " Percentage is: 95.1%\n",
      " Percentage is: 97.6%\n",
      " Percentage is: 100.0%\n"
     ]
    }
   ],
   "source": [
    "N =73908\n",
    "w= np.zeros(N)\n",
    "w_DV = np.zeros(N)\n",
    "\n",
    "for i in range(41):\n",
    "    for j in range(21):\n",
    "        for k in range(N):\n",
    "            w_DV[k] = np.exp(-(abs(DV[k]-dv[i]))/1.5-(abs(S[k]-s[j]))/30)\n",
    "            w[k] = w_DV[k]*A[k]\n",
    "        w_weighted = sum(w)/sum(w_DV)\n",
    "        a[i, j]= w_weighted     \n",
    "    print(f' Percentage is: {(i + 1)/len(dv) * 100:.1f}%')   \n"
   ]
  },
  {
   "cell_type": "markdown",
   "id": "52cbac3a",
   "metadata": {},
   "source": [
    "The following code will plot the data for you. Does it make sense when considering:\n",
    "<ul>\n",
    "    <li>Negative (slower than leader) and positive (faster than leader) speed differences?</li>\n",
    "    <li>Small and large headways?</li>\n",
    "</ul>"
   ]
  },
  {
   "cell_type": "code",
   "execution_count": 33,
   "id": "168949b8",
   "metadata": {
    "scrolled": false
   },
   "outputs": [
    {
     "data": {
      "image/png": "[encoded data removed]",
      "text/plain": [
       "<Figure size 1000x700 with 2 Axes>"
      ]
     },
     "metadata": {},
     "output_type": "display_data"
    }
   ],
   "source": [
    "X, Y = np.meshgrid(dv, s)\n",
    "axs = plt.axes()\n",
    "p = axs.pcolor(X, Y, a.T, shading='nearest')\n",
    "axs.set_title('Acceleration [m/s/s]')\n",
    "axs.set_xlabel('Speed difference [m/s]')\n",
    "axs.set_ylabel('Headway [m]')\n",
    "axs.figure.colorbar(p);\n",
    "axs.figure.set_size_inches(10, 7)"
   ]
  },
  {
   "cell_type": "code",
   "execution_count": null,
   "id": "755b579c",
   "metadata": {},
   "outputs": [],
   "source": [
    "'It is logical. You can see that in the figure. You can see it in the corners'"
   ]
  }
 ],
 "metadata": {
  "kernelspec": {
   "display_name": "Python 3 (ipykernel)",
   "language": "python",
   "name": "python3"
  },
  "language_info": {
   "codemirror_mode": {
    "name": "ipython",
    "version": 3
   },
   "file_extension": ".py",
   "mimetype": "text/x-python",
   "name": "python",
   "nbconvert_exporter": "python",
   "pygments_lexer": "ipython3",
   "version": "3.7.13"
  }
 },
 "nbformat": 4,
 "nbformat_minor": 5
}
