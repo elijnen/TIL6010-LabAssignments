{
 "cells": [
  {
   "cell_type": "markdown",
   "metadata": {},
   "source": [
    "# Project Group 21 \n",
    "\n",
    "Members: \n",
    "Eva Lijnen (4570812)\n",
    "Noa Zijlmans (4957024)\n",
    "Chaja Schwab (4661753)\n",
    "Veerle van Citters (5871026)\n",
    "Willemijn Dietz (5868130)"
   ]
  },
  {
   "cell_type": "markdown",
   "metadata": {},
   "source": [
    "# Research Objective\n",
    "\n",
    "How did the Covid-19 pandemic affect the air traffic in the Netherlands?"
   ]
  },
  {
   "cell_type": "markdown",
   "metadata": {},
   "source": [
    "# Contribution Statement\n",
    "\n",
    "*Be specific. Some of the tasks can be coding (expect everyone to do this), background research, conceptualisation, visualisation, data analysis, data modelling*"
   ]
  },
  {
   "cell_type": "markdown",
   "metadata": {},
   "source": [
    "We divided the research question in several subquestion each consisting of their own tasks. A enumeration of these subquestion is as follows:\n",
    "\n",
    "1. What has been the airport traffic in the past 10 years, including the COVID-19 years? Here\n",
    "we can use our skills on the basic functions in Python. Also, we will use our skills on visualization to\n",
    "make (interactive) graphs. If there are outliers in the data, background research can be done to evaluate what might have caused these outliers. \n",
    "2. Are there relative differences between the different airports in the Netherlands? Here we\n",
    "zoom in on the different airports in the Netherlands. With basic functions we wish to investigate the main\n",
    "differences between the airports. For instance; what are the flight numbers/purposes? Which airports\n",
    "have been the most affected by the COVID pandemic? If there are outliers in the data, background research can be done to evaluate what might have caused these outliers. \n",
    "3. Is there a correlation between the number of COVID infections and the passenger numbers?\n",
    "Here we can also distinguish between the different airports. We will use our skills on basic functions, and\n",
    "visualisation. Furthermore, we will develop a mathematical (regression) model to investigate the relation\n",
    "between the number of cases and passenger numbers.\n",
    "4. How has COVID-19 impacted air traffic from and to various regions / continents? Possibly,\n",
    "air traffic between European countries has been less affected than intercontinental air traffic. Also, in Asia\n",
    "the pandemic rules are still very strict. Can this effect be observed from the passenger numbers?"
   ]
  },
  {
   "cell_type": "markdown",
   "metadata": {},
   "source": [
    "**Author 1**:\n",
    "\n",
    "**Author 2**:\n",
    "\n",
    "**Author 3**:"
   ]
  },
  {
   "cell_type": "markdown",
   "metadata": {},
   "source": [
    "# Data Used"
   ]
  },
  {
   "cell_type": "markdown",
   "metadata": {},
   "source": [
    "1. RIVM COVID data: new cases, reproduction number, vaccinations\n",
    "2. Statline monthly aviation data Dutch Airports: passengers, number of flights, country of origin/destination"
   ]
  },
  {
   "cell_type": "markdown",
   "metadata": {},
   "source": [
    "# Data Pipeline"
   ]
  },
  {
   "cell_type": "markdown",
   "metadata": {},
   "source": []
  }
 ],
 "metadata": {
  "kernelspec": {
   "display_name": "Python 3",
   "language": "python",
   "name": "python3"
  },
  "language_info": {
   "codemirror_mode": {
    "name": "ipython",
    "version": 3
   },
   "file_extension": ".py",
   "mimetype": "text/x-python",
   "name": "python",
   "nbconvert_exporter": "python",
   "pygments_lexer": "ipython3",
   "version": "3.8.3"
  },
  "vscode": {
   "interpreter": {
    "hash": "31f2aee4e71d21fbe5cf8b01ff0e069b9275f58929596ceb00d14d90e3e16cd6"
   }
  }
 },
 "nbformat": 4,
 "nbformat_minor": 2
}
